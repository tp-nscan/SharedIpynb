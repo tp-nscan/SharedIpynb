{
 "cells": [
  {
   "cell_type": "code",
   "execution_count": 1,
   "metadata": {},
   "outputs": [],
   "source": [
    "import pandas as pd\n",
    "import matplotlib\n",
    "import numpy as np\n",
    "import numpy.linalg as LA\n",
    "import matplotlib.cm as cm\n",
    "import matplotlib.mlab as mlab\n",
    "import matplotlib.pyplot as plt\n",
    "import seaborn as sns; sns.set()\n",
    "import sklearn\n",
    "from sklearn.manifold import TSNE\n",
    "import Utils.BuildMatrix as bm\n",
    "import Utils.TaggedRowVecs as trv\n",
    "import Utils.TrvPlot as trvPlt\n",
    "np.core.arrayprint._line_width = 160\n",
    "%matplotlib inline"
   ]
  },
  {
   "cell_type": "code",
   "execution_count": 2,
   "metadata": {
    "collapsed": true
   },
   "outputs": [],
   "source": [
    "RS = 12345\n",
    "def TSNEtrv(tvs:trv.TaggedRowVecs):\n",
    "    proj = TSNE(n_components=2, random_state=RS).fit_transform(tvs.row_vecs)\n",
    "    return trv.TaggedRowVecs(row_vecs=proj, tags=tvs.tags)"
   ]
  },
  {
   "cell_type": "code",
   "execution_count": 3,
   "metadata": {
    "collapsed": true
   },
   "outputs": [],
   "source": [
    "def PlotTSNE(tvs:trv.TaggedRowVecs):\n",
    "        res = TSNEtrv(tvs)\n",
    "        trvPlt.PlotTrvs(res)\n",
    "        plt.show()\n",
    "        return res"
   ]
  },
  {
   "cell_type": "markdown",
   "metadata": {},
   "source": [
    "#### TSNE with simple gaussians"
   ]
  },
  {
   "cell_type": "code",
   "execution_count": 4,
   "metadata": {
    "collapsed": true
   },
   "outputs": [],
   "source": [
    "dimA = 100\n",
    "stdDev = 0.001\n",
    "numPoints = 150"
   ]
  },
  {
   "cell_type": "code",
   "execution_count": 5,
   "metadata": {},
   "outputs": [
    {
     "data": {
      "image/png": "[encoded data removed]",
      "text/plain": [
       "<matplotlib.figure.Figure at 0x1f2ded91f60>"
      ]
     },
     "metadata": {},
     "output_type": "display_data"
    }
   ],
   "source": [
    "q = trv.Gaussians(dim=dimA, num_points=5)\n",
    "tcvG = trv.Gaussians(centers=q,\n",
    "                     num_points=numPoints,\n",
    "                     covMatrix=np.matrix(np.diag([stdDev] * dimA)))\n",
    "out = trvPlt.PlotTrvs(tcvG,\n",
    "                figsize=(2,2), \n",
    "                markersize=2, \n",
    "                tag_extractor=lambda x: x[0])"
   ]
  },
  {
   "cell_type": "code",
   "execution_count": 6,
   "metadata": {},
   "outputs": [
    {
     "data": {
      "image/png": "[encoded data removed]",
      "text/plain": [
       "<matplotlib.figure.Figure at 0x1f2deda1e10>"
      ]
     },
     "metadata": {},
     "output_type": "display_data"
    }
   ],
   "source": [
    "resG = TSNEtrv(tcvG)\n",
    "out = trvPlt.PlotTrvs(resG,\n",
    "                figsize=(2,2), \n",
    "                markersize=2, \n",
    "                tag_extractor=lambda x: x[0])"
   ]
  },
  {
   "cell_type": "markdown",
   "metadata": {
    "collapsed": true
   },
   "source": [
    "#### Gaussian - Gaussian/core"
   ]
  },
  {
   "cell_type": "code",
   "execution_count": 7,
   "metadata": {
    "collapsed": true
   },
   "outputs": [],
   "source": [
    "dimB = 100\n",
    "numClustersB1 = 15\n",
    "stdDevB1 = 10.0\n",
    "stdDevB2a = 1.0\n",
    "stdDevB2b = 0.1\n",
    "numPointsB2a = 320\n",
    "numPointsB2b = 80"
   ]
  },
  {
   "cell_type": "code",
   "execution_count": 8,
   "metadata": {},
   "outputs": [
    {
     "data": {
      "image/png": "[encoded data removed]",
      "text/plain": [
       "<matplotlib.figure.Figure at 0x1f2deda15c0>"
      ]
     },
     "metadata": {},
     "output_type": "display_data"
    }
   ],
   "source": [
    "q = trv.Gaussians(\n",
    "    centers=trv.Single(vec=np.array([0] * dimB), tag='.'),\n",
    "    covMatrix=np.matrix(np.diag([stdDevB1] * dimB)),\n",
    "    num_points=numClustersB1)\n",
    "tcvGg = trv.GaussianTwins(\n",
    "    centers=q,\n",
    "    covMatrix1=np.matrix(np.diag([stdDevB2a] * dimB)),\n",
    "    covMatrix2=np.matrix(np.diag([stdDevB2b] * dimB)),\n",
    "    num_points1=numPointsB2a, \n",
    "    num_points2=numPointsB2b)\n",
    "resGg = trvPlt.PlotTrvs(\n",
    "                tcvGg, \n",
    "                figsize=(2,2), \n",
    "                markersize=2,\n",
    "                proj_matrix=bm.randOrthoNormalMatrix(dimB),\n",
    "                tag_extractor=lambda x: x[0],\n",
    "                showLegend=True)"
   ]
  },
  {
   "cell_type": "code",
   "execution_count": null,
   "metadata": {},
   "outputs": [],
   "source": [
    "resG = TSNEtrv(tcvGg)\n",
    "out = trvPlt.PlotTrvs(resG,\n",
    "                figsize=(10,10), \n",
    "                markersize=2, \n",
    "                tag_extractor=lambda x: x[0])"
   ]
  },
  {
   "cell_type": "code",
   "execution_count": null,
   "metadata": {},
   "outputs": [],
   "source": [
    "resG4g = trvPlt.PlotTrvs(\n",
    "                resG, \n",
    "                figsize=(10,10), \n",
    "                markersize=2,\n",
    "                tag_extractor=lambda x: x[1][0])"
   ]
  },
  {
   "cell_type": "markdown",
   "metadata": {},
   "source": [
    "#### Gaussian - Gaussian - Gaussain/core"
   ]
  },
  {
   "cell_type": "code",
   "execution_count": null,
   "metadata": {
    "collapsed": true
   },
   "outputs": [],
   "source": [
    "dimC = 100\n",
    "numClustersC1 = 4\n",
    "stdDevC1 = 100000.0\n",
    "numClustersC2 = 4\n",
    "stdDevC2 = 0.01\n",
    "\n",
    "stdDevC3a = 0.025\n",
    "stdDevC3b = 0.0125\n",
    "numPoints3a = 400\n",
    "numPoints3b = 200"
   ]
  },
  {
   "cell_type": "code",
   "execution_count": null,
   "metadata": {},
   "outputs": [],
   "source": [
    "tcvC1 = trv.Gaussians(\n",
    "            centers=trv.Single(vec=np.array([0] * dimC), tag='.'),\n",
    "            covMatrix=np.matrix(np.diag([stdDevC1] * dimC)),\n",
    "            num_points=numClustersC1)\n",
    "\n",
    "tcvC2 = trv.Gaussians(\n",
    "            centers=tcvC1,\n",
    "            covMatrix=np.matrix(np.diag([stdDevC2] * dimC)),\n",
    "            num_points=numClustersC2)\n",
    "\n",
    "\n",
    "tcvC3 = trv.GaussianTwins(\n",
    "    centers=tcvC2,\n",
    "    covMatrix1=np.matrix(np.diag([stdDevC3a] * dimC)),\n",
    "    covMatrix2=np.matrix(np.diag([stdDevC3b] * dimC)),\n",
    "    num_points1=numPoints3a, \n",
    "    num_points2=numPoints3b)\n",
    "\n",
    "resGg = trvPlt.PlotTrvs(\n",
    "                tcvC3, \n",
    "                figsize=(10,10), \n",
    "                markersize=2,\n",
    "                proj_matrix=bm.randOrthoNormalMatrix(dimC),\n",
    "                tag_extractor=lambda x: x[1][0][1],\n",
    "                showLegend=True)"
   ]
  },
  {
   "cell_type": "code",
   "execution_count": null,
   "metadata": {},
   "outputs": [],
   "source": [
    "resC = TSNEtrv(tcvC3)\n",
    "out = trvPlt.PlotTrvs(resC,\n",
    "                figsize=(10,10), \n",
    "                markersize=2, \n",
    "                tag_extractor=lambda x: x[1][0][0])"
   ]
  },
  {
   "cell_type": "code",
   "execution_count": null,
   "metadata": {},
   "outputs": [],
   "source": [
    "out = trvPlt.PlotTrvs(resC,\n",
    "                figsize=(10,10), \n",
    "                markersize=2, \n",
    "                tag_extractor=lambda x: x[0])"
   ]
  },
  {
   "cell_type": "code",
   "execution_count": null,
   "metadata": {},
   "outputs": [],
   "source": [
    "tcvC3.row_vecs.shape"
   ]
  },
  {
   "cell_type": "code",
   "execution_count": null,
   "metadata": {},
   "outputs": [],
   "source": [
    "covMatrix=np.matrix(np.diag([1.] * 100))"
   ]
  },
  {
   "cell_type": "code",
   "execution_count": null,
   "metadata": {},
   "outputs": [],
   "source": [
    "ss = tcvC3.row_vecs[:20, :]\n",
    "np.vstack(np.random.multivariate_normal(rv, \n",
    "                                        covMatrix,\n",
    "                                        5) for rv in ss)"
   ]
  },
  {
   "cell_type": "code",
   "execution_count": null,
   "metadata": {
    "collapsed": true
   },
   "outputs": [],
   "source": []
  }
 ],
 "metadata": {
  "kernelspec": {
   "display_name": "Python 3",
   "language": "python",
   "name": "python3"
  },
  "language_info": {
   "codemirror_mode": {
    "name": "ipython",
    "version": 3
   },
   "file_extension": ".py",
   "mimetype": "text/x-python",
   "name": "python",
   "nbconvert_exporter": "python",
   "pygments_lexer": "ipython3",
   "version": "3.5.2"
  }
 },
 "nbformat": 4,
 "nbformat_minor": 2
}
