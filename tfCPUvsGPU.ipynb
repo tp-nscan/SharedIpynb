{
 "cells": [
  {
   "cell_type": "code",
   "execution_count": null,
   "metadata": {},
   "outputs": [],
   "source": [
    "import tensorflow as tf\n",
    "import numpy as np\n",
    "import Utils.BuildMatrix as bm\n",
    "import numpy as np"
   ]
  },
  {
   "cell_type": "code",
   "execution_count": null,
   "metadata": {},
   "outputs": [],
   "source": [
    "logDirectory = '/home/jemboo/SharedIpynb/graphs/2'\n",
    "#tensorboard --logdir=/home/jemboo/SharedIpynb/graphs\n",
    "#fuser 6006/tcp -k"
   ]
  },
  {
   "cell_type": "code",
   "execution_count": null,
   "metadata": {},
   "outputs": [],
   "source": [
    "%%time\n",
    "import random\n",
    "mat_sz = 1000\n",
    "tf.reset_default_graph()\n",
    "with tf.Session() as sess:\n",
    "    with tf.device('/gpu:0'): # swap for 'cpu:0' or whatever\n",
    "        \n",
    "        a = tf.constant([random.random() for _ in range(mat_sz * mat_sz)], shape=[mat_sz, mat_sz], name='a')\n",
    "        b = tf.constant([random.random() for _ in range(mat_sz * mat_sz)], shape=[mat_sz, mat_sz], name='b')\n",
    "        \n",
    "        f = tf.matmul(a, b)\n",
    "        for _ in range(100):\n",
    "            sess.run(f)"
   ]
  },
  {
   "cell_type": "markdown",
   "metadata": {},
   "source": [
    "#### Block A"
   ]
  },
  {
   "cell_type": "code",
   "execution_count": null,
   "metadata": {},
   "outputs": [],
   "source": [
    "        aP = tf.random_uniform([1000, 1000], name='aP')\n",
    "        bP = tf.random_uniform([1000, 1000], name='bP')\n",
    "        a = tf.Variable(aP, name='a')\n",
    "        b = tf.Variable(bP, name='b')\n",
    "        sess.run(a.initializer)\n",
    "        sess.run(b.initializer)"
   ]
  },
  {
   "cell_type": "markdown",
   "metadata": {},
   "source": [
    "#### Block B"
   ]
  },
  {
   "cell_type": "code",
   "execution_count": null,
   "metadata": {},
   "outputs": [],
   "source": [
    "        a = tf.constant([random.random() for _ in range(mat_sz * mat_sz)], shape=[mat_sz, mat_sz], name='a')\n",
    "        b = tf.constant([random.random() for _ in range(mat_sz * mat_sz)], shape=[mat_sz, mat_sz], name='b')"
   ]
  },
  {
   "cell_type": "code",
   "execution_count": null,
   "metadata": {},
   "outputs": [],
   "source": [
    "# Block A, CPU: 5.25334620475769\n",
    "# Block A, GPU: 0.22746562957763672\n",
    "# Block B, CPU: 0.9498565196990967\n",
    "# Block B, GPU: 0.9788544178009033"
   ]
  },
  {
   "cell_type": "code",
   "execution_count": 1,
   "metadata": {},
   "outputs": [],
   "source": [
    "import random\n",
    "import tensorflow as tf\n",
    "import numpy as np"
   ]
  },
  {
   "cell_type": "code",
   "execution_count": 6,
   "metadata": {},
   "outputs": [],
   "source": [
    "logDirectory = '/home/jemboo/SharedIpynb/graphs/B'\n",
    "walkLength = 200\n",
    "mat_sz = 500\n",
    "tf.reset_default_graph()"
   ]
  },
  {
   "cell_type": "code",
   "execution_count": 7,
   "metadata": {},
   "outputs": [],
   "source": [
    "k = tf.placeholder(tf.float32)\n",
    "trajects = tf.Variable(tf.zeros(shape=[mat_sz, mat_sz]))\n",
    "norm = tf.random_normal(shape=[mat_sz, mat_sz], stddev=k)\n",
    "prod = tf.matmul(norm, norm)\n",
    "update = tf.assign_add(trajects, prod)\n",
    "summary_trajects = tf.summary.histogram('trajects', trajects)\n",
    "summaries = tf.summary.merge_all()"
   ]
  },
  {
   "cell_type": "code",
   "execution_count": 12,
   "metadata": {},
   "outputs": [
    {
     "name": "stdout",
     "output_type": "stream",
     "text": [
      "CPU times: user 3.69 s, sys: 96 ms, total: 3.78 s\n",
      "Wall time: 3.21 s\n"
     ]
    }
   ],
   "source": [
    "%%time\n",
    "with tf.device('/gpu:0'):\n",
    "    with tf.Session() as sess:\n",
    "        #writer = tf.summary.FileWriter(logDirectory, sess.graph)\n",
    "        sess.run(trajects.initializer)\n",
    "        for i in range(walkLength):\n",
    "            #trn_out, smms = \n",
    "            sess.run([update, summaries], feed_dict={k: 1.0 + float(i)/float(walkLength)})\n",
    "            #writer.add_summary(smms, global_step=i)"
   ]
  },
  {
   "cell_type": "code",
   "execution_count": null,
   "metadata": {},
   "outputs": [],
   "source": [
    "CPU times: user 3.94 s, sys: 92 ms, total: 4.03 s\n",
    "Wall time: 3.45 s"
   ]
  },
  {
   "cell_type": "code",
   "execution_count": null,
   "metadata": {},
   "outputs": [],
   "source": [
    "CPU times: user 3.91 s, sys: 156 ms, total: 4.06 s\n",
    "Wall time: 3.42 s"
   ]
  },
  {
   "cell_type": "code",
   "execution_count": null,
   "metadata": {},
   "outputs": [],
   "source": []
  },
  {
   "cell_type": "code",
   "execution_count": null,
   "metadata": {},
   "outputs": [],
   "source": [
    "%%time\n",
    "import random\n",
    "import tensorflow as tf\n",
    "import numpy as np\n",
    "\n",
    "logDirectory = '/home/jemboo/SharedIpynb/graphs/A'\n",
    "walkLength = 100\n",
    "d = 2000\n",
    "tf.reset_default_graph()\n",
    "\n",
    "#A\n",
    "trajects = tf.Variable(np.zeros([d, d], dtype=np.float32))\n",
    "#B\n",
    "#trajects = tf.Variable(tf.zeros([d, d], dtype=np.float32))\n",
    "norm = tf.random_normal([d, d], mean=0, stddev=0.04)\n",
    "update = tf.assign_add(trajects, norm)\n",
    "\n",
    "summary_trajects = tf.summary.histogram('trajects', trajects)\n",
    "summaries = tf.summary.merge_all()\n",
    "\n",
    "with tf.Session() as sess:\n",
    "    with tf.device('/cpu:0'): # swap for 'cpu:0' or whatever\n",
    "        writer = tf.summary.FileWriter(logDirectory, sess.graph)\n",
    "\n",
    "        sess.run(trajects.initializer)\n",
    "\n",
    "        for i in range(walkLength):\n",
    "            smms, trn_out = sess.run([summaries, update])\n",
    "            writer.add_summary(smms, global_step=i)"
   ]
  },
  {
   "cell_type": "code",
   "execution_count": null,
   "metadata": {},
   "outputs": [],
   "source": [
    "# A, CPU: 20.3 s\n",
    "# A, GPU: 20 s\n",
    "# B, CPU: 16.7 s\n",
    "# B, GPU: 16.5 s"
   ]
  },
  {
   "cell_type": "code",
   "execution_count": null,
   "metadata": {},
   "outputs": [],
   "source": []
  },
  {
   "cell_type": "code",
   "execution_count": null,
   "metadata": {},
   "outputs": [],
   "source": []
  },
  {
   "cell_type": "code",
   "execution_count": 13,
   "metadata": {},
   "outputs": [],
   "source": [
    "tf.reset_default_graph()"
   ]
  },
  {
   "cell_type": "code",
   "execution_count": 17,
   "metadata": {},
   "outputs": [],
   "source": [
    "dimA = 500\n",
    "dimB = 500"
   ]
  },
  {
   "cell_type": "code",
   "execution_count": 18,
   "metadata": {},
   "outputs": [],
   "source": [
    "mAp = tf.random_uniform([dimA, dimB], name='a')\n",
    "mBp = tf.random_uniform([dimB, dimA], name='b')\n",
    "mA = tf.Variable(mAp)\n",
    "mB = tf.Variable(mBp)\n",
    "mD = tf.matmul(mA, mB)\n",
    "mE = tf.matrix_inverse(mD)\n",
    "mF = mB.assign(mE)"
   ]
  },
  {
   "cell_type": "code",
   "execution_count": 20,
   "metadata": {},
   "outputs": [
    {
     "name": "stdout",
     "output_type": "stream",
     "text": [
      "CPU times: user 652 ms, sys: 444 ms, total: 1.1 s\n",
      "Wall time: 2.78 s\n"
     ]
    }
   ],
   "source": [
    "%%time\n",
    "with tf.device(\"/cpu:0\"):\n",
    "    with tf.Session() as sess:\n",
    "        #tf.global_variables_initializer().run()\n",
    "        sess.run(mA.initializer)\n",
    "        sess.run(mB.initializer)\n",
    "        for i in range(50):\n",
    "            prod = sess.run(mF)"
   ]
  },
  {
   "cell_type": "code",
   "execution_count": null,
   "metadata": {},
   "outputs": [],
   "source": []
  },
  {
   "cell_type": "code",
   "execution_count": null,
   "metadata": {},
   "outputs": [],
   "source": [
    "CPU times: user 532 ms, sys: 556 ms, total: 1.09 s\n",
    "Wall time: 2.77 s"
   ]
  },
  {
   "cell_type": "code",
   "execution_count": null,
   "metadata": {},
   "outputs": [],
   "source": []
  },
  {
   "cell_type": "code",
   "execution_count": null,
   "metadata": {},
   "outputs": [],
   "source": []
  },
  {
   "cell_type": "code",
   "execution_count": null,
   "metadata": {},
   "outputs": [],
   "source": []
  },
  {
   "cell_type": "code",
   "execution_count": null,
   "metadata": {},
   "outputs": [],
   "source": []
  },
  {
   "cell_type": "code",
   "execution_count": null,
   "metadata": {},
   "outputs": [],
   "source": []
  },
  {
   "cell_type": "code",
   "execution_count": null,
   "metadata": {},
   "outputs": [],
   "source": []
  },
  {
   "cell_type": "code",
   "execution_count": null,
   "metadata": {},
   "outputs": [],
   "source": []
  },
  {
   "cell_type": "code",
   "execution_count": null,
   "metadata": {},
   "outputs": [],
   "source": []
  },
  {
   "cell_type": "code",
   "execution_count": null,
   "metadata": {},
   "outputs": [],
   "source": [
    "# Discretized PDE update rules\n",
    "U_ = mA * mB\n",
    "Ut_ = Ut + eps * (laplace(U) - damping * Ut)\n",
    "\n",
    "# Operation to update the state\n"
   ]
  },
  {
   "cell_type": "code",
   "execution_count": null,
   "metadata": {},
   "outputs": [],
   "source": [
    "with tf.device(\"/cpu:0\"):\n",
    "    sess = tf.InteractiveSession()\n",
    "    writer = tf.summary.FileWriter(logDirectory, sess.graph)\n",
    "    tf.global_variables_initializer().run()\n",
    "    for i in range(100):\n",
    "        prod = sess.run(mE)\n",
    "    sess.close()\n",
    "    writer.close()"
   ]
  },
  {
   "cell_type": "code",
   "execution_count": null,
   "metadata": {},
   "outputs": [],
   "source": [
    "prod.size"
   ]
  },
  {
   "cell_type": "code",
   "execution_count": null,
   "metadata": {},
   "outputs": [],
   "source": []
  },
  {
   "cell_type": "code",
   "execution_count": null,
   "metadata": {},
   "outputs": [],
   "source": [
    "x = tf.constant(1.0, name='input') \n",
    "w = tf.get_variable(\"weight\", \n",
    "                    dtype=tf.float32,\n",
    "                    initializer=tf.constant(value=0.8, name='weight_i'))\n",
    "y = tf.multiply(w, x, name='output')"
   ]
  },
  {
   "cell_type": "code",
   "execution_count": null,
   "metadata": {},
   "outputs": [],
   "source": [
    "y_ = tf.constant(0.0)\n",
    "loss = (y - y_)**2"
   ]
  },
  {
   "cell_type": "code",
   "execution_count": null,
   "metadata": {},
   "outputs": [],
   "source": [
    "optim = tf.train.GradientDescentOptimizer(learning_rate=0.05)\n",
    "grads_and_vars = optim.compute_gradients(loss)"
   ]
  },
  {
   "cell_type": "code",
   "execution_count": null,
   "metadata": {},
   "outputs": [],
   "source": [
    "with tf.Session() as sess:\n",
    "    tf.global_variables_initializer().run()\n",
    "    writer = tf.summary.FileWriter(logDirectory, sess.graph)\n",
    "    gv = sess.run(optim.apply_gradients(grads_and_vars))\n",
    "    res = sess.run(w)\n",
    "    print(res)\n",
    "writer.close()"
   ]
  },
  {
   "cell_type": "code",
   "execution_count": null,
   "metadata": {},
   "outputs": [],
   "source": [
    "grads_and_vars[0][1]"
   ]
  },
  {
   "cell_type": "code",
   "execution_count": null,
   "metadata": {},
   "outputs": [],
   "source": []
  }
 ],
 "metadata": {
  "kernelspec": {
   "display_name": "Python 3",
   "language": "python",
   "name": "python3"
  },
  "language_info": {
   "codemirror_mode": {
    "name": "ipython",
    "version": 3
   },
   "file_extension": ".py",
   "mimetype": "text/x-python",
   "name": "python",
   "nbconvert_exporter": "python",
   "pygments_lexer": "ipython3",
   "version": "3.5.2"
  }
 },
 "nbformat": 4,
 "nbformat_minor": 2
}
