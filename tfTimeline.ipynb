{
 "cells": [
  {
   "cell_type": "code",
   "execution_count": null,
   "metadata": {},
   "outputs": [],
   "source": [
    "import tensorflow as tf\n",
    "from tensorflow.python.client import timeline\n",
    "\n",
    "a = tf.random_normal([2000, 15000])\n",
    "b = tf.random_normal([15000, 1000])\n",
    "res = tf.matmul(a, b)\n",
    "\n",
    "with tf.Session() as sess:\n",
    "    # add additional options to trace the session execution\n",
    "    options = tf.RunOptions(trace_level=tf.RunOptions.FULL_TRACE)\n",
    "    run_metadata = tf.RunMetadata()\n",
    "    sess.run(res, options=options, run_metadata=run_metadata)\n",
    "\n",
    "    # Create the Timeline object, and write it to a json file\n",
    "    fetched_timeline = timeline.Timeline(run_metadata.step_stats)\n",
    "    #print(fetched_timeline.generate_chrome_trace_format())\n",
    "    chrome_trace = fetched_timeline.generate_chrome_trace_format()    \n",
    "    with open('timeline_01.json', 'w') as f:\n",
    "        f.write(chrome_trace)\n"
   ]
  },
  {
   "cell_type": "code",
   "execution_count": null,
   "metadata": {},
   "outputs": [],
   "source": [
    "import tensorflow as tf\n",
    "from tensorflow.python.client import timeline\n",
    "\n",
    "with tf.device('/cpu:0'):\n",
    "  a = tf.random_normal([2000, 1500])\n",
    "  b = tf.random_normal([1500, 1000])\n",
    "  res = tf.matmul(a, b)\n",
    "  options = tf.RunOptions(trace_level=tf.RunOptions.FULL_TRACE)\n",
    "  run_metadata = tf.RunMetadata()\n",
    "# Creates a session with log_device_placement set to True.\n",
    "  sess = tf.Session(config=tf.ConfigProto(log_device_placement=True))\n",
    "# Runs the op.\n",
    "  sess.run(res, options=options, run_metadata=run_metadata)\n",
    "  chrome_trace = fetched_timeline.generate_chrome_trace_format()    \n",
    "  with open('timeline_02.json', 'w') as f:\n",
    "        f.write(chrome_trace)\n"
   ]
  },
  {
   "cell_type": "code",
   "execution_count": null,
   "metadata": {},
   "outputs": [],
   "source": []
  }
 ],
 "metadata": {
  "kernelspec": {
   "display_name": "Python 3",
   "language": "python",
   "name": "python3"
  },
  "language_info": {
   "codemirror_mode": {
    "name": "ipython",
    "version": 3
   },
   "file_extension": ".py",
   "mimetype": "text/x-python",
   "name": "python",
   "nbconvert_exporter": "python",
   "pygments_lexer": "ipython3",
   "version": "3.5.2"
  }
 },
 "nbformat": 4,
 "nbformat_minor": 2
}
