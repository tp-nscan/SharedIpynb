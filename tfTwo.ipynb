{
 "cells": [
  {
   "cell_type": "code",
   "execution_count": 1,
   "metadata": {
    "collapsed": true
   },
   "outputs": [],
   "source": [
    "from __future__ import absolute_import\n",
    "from __future__ import division\n",
    "from __future__ import print_function"
   ]
  },
  {
   "cell_type": "code",
   "execution_count": 2,
   "metadata": {
    "collapsed": true
   },
   "outputs": [],
   "source": [
    "import argparse\n",
    "import os\n",
    "import sys\n",
    "\n",
    "import tensorflow as tf\n",
    "from tensorflow.examples.tutorials.mnist import input_data"
   ]
  },
  {
   "cell_type": "code",
   "execution_count": 3,
   "metadata": {
    "collapsed": true
   },
   "outputs": [],
   "source": [
    "FLAGS = None"
   ]
  },
  {
   "cell_type": "code",
   "execution_count": 4,
   "metadata": {},
   "outputs": [
    {
     "name": "stdout",
     "output_type": "stream",
     "text": [
      "Variable2 a is [array([[  4800.,   5160.],\n",
      "       [ 10420.,  11200.],\n",
      "       [ 16040.,  17240.]], dtype=float32)]\n"
     ]
    }
   ],
   "source": [
    "import tensorflow as tf\n",
    "import numpy as np\n",
    "\n",
    "tf.reset_default_graph()\n",
    "\n",
    "with tf.name_scope('scopeA'):\n",
    "    a = tf.constant([1.0, 2.0, 3.0, 4.0, 5.0, 6.0], shape=[2, 3], name='a')\n",
    "    b = tf.constant([11.0, 12.0, 13.0, 14.0, 15.0, 16.0], shape=[3, 2], name='b')\n",
    "    c = tf.matmul(a, b, name='stymey')\n",
    "\n",
    "with tf.name_scope('scopeB'):\n",
    "    a2 = tf.constant([10.0, 20.0, 30.0, 40.0, 50.0, 60.0], shape=[3, 2], name='a2')\n",
    "    b2 = tf.constant([.10, .20, .30, .40, .50, .60], shape=[3, 2], name='b2')    \n",
    "    c2 = tf.matmul(a2, c, name='malph')\n",
    "\n",
    "with tf.name_scope('init'):\n",
    "    init_op = tf.global_variables_initializer()\n",
    "    \n",
    "    tf.summary.scalar(\"da_malph\", c2)\n",
    "    merged = tf.summary.merge_all()\n",
    "    \n",
    "with tf.Session() as sess:\n",
    "    #writer = tf.train.SummaryWriter(logs_path, graph=tf.get_default_graph())\n",
    "    sess.run(init_op)\n",
    "    # compute the output of the graph\n",
    "    # c_out = sess.run(c)\n",
    "    #_, summary = sess.run([c2]) #, summary_op])\n",
    "    c_out2 = sess.run([c2])\n",
    "    #@ print(\"Variable a is {}\".format(c_out))\n",
    "    print(\"Variable2 a is {}\".format(c_out2))\n",
    "\n",
    "writer = tf.summary.FileWriter(logdir=\"/tmp/test\", graph=sess.graph)\n",
    "#tensorboard --logdir=\\tmp\\test"
   ]
  },
  {
   "cell_type": "code",
   "execution_count": 5,
   "metadata": {},
   "outputs": [
    {
     "name": "stdout",
     "output_type": "stream",
     "text": [
      "Help on class FileWriter in module tensorflow.python.summary.writer.writer:\n",
      "\n",
      "class FileWriter(SummaryToEventTransformer)\n",
      " |  Writes `Summary` protocol buffers to event files.\n",
      " |  \n",
      " |  The `FileWriter` class provides a mechanism to create an event file in a\n",
      " |  given directory and add summaries and events to it. The class updates the\n",
      " |  file contents asynchronously. This allows a training program to call methods\n",
      " |  to add data to the file directly from the training loop, without slowing down\n",
      " |  training.\n",
      " |  \n",
      " |  Method resolution order:\n",
      " |      FileWriter\n",
      " |      SummaryToEventTransformer\n",
      " |      builtins.object\n",
      " |  \n",
      " |  Methods defined here:\n",
      " |  \n",
      " |  __init__(self, logdir, graph=None, max_queue=10, flush_secs=120, graph_def=None, filename_suffix=None)\n",
      " |      Creates a `FileWriter` and an event file.\n",
      " |      \n",
      " |      On construction the summary writer creates a new event file in `logdir`.\n",
      " |      This event file will contain `Event` protocol buffers constructed when you\n",
      " |      call one of the following functions: `add_summary()`, `add_session_log()`,\n",
      " |      `add_event()`, or `add_graph()`.\n",
      " |      \n",
      " |      If you pass a `Graph` to the constructor it is added to\n",
      " |      the event file. (This is equivalent to calling `add_graph()` later).\n",
      " |      \n",
      " |      TensorBoard will pick the graph from the file and display it graphically so\n",
      " |      you can interactively explore the graph you built. You will usually pass\n",
      " |      the graph from the session in which you launched it:\n",
      " |      \n",
      " |      ```python\n",
      " |      ...create a graph...\n",
      " |      # Launch the graph in a session.\n",
      " |      sess = tf.Session()\n",
      " |      # Create a summary writer, add the 'graph' to the event file.\n",
      " |      writer = tf.summary.FileWriter(<some-directory>, sess.graph)\n",
      " |      ```\n",
      " |      \n",
      " |      The other arguments to the constructor control the asynchronous writes to\n",
      " |      the event file:\n",
      " |      \n",
      " |      *  `flush_secs`: How often, in seconds, to flush the added summaries\n",
      " |         and events to disk.\n",
      " |      *  `max_queue`: Maximum number of summaries or events pending to be\n",
      " |         written to disk before one of the 'add' calls block.\n",
      " |      \n",
      " |      Args:\n",
      " |        logdir: A string. Directory where event file will be written.\n",
      " |        graph: A `Graph` object, such as `sess.graph`.\n",
      " |        max_queue: Integer. Size of the queue for pending events and summaries.\n",
      " |        flush_secs: Number. How often, in seconds, to flush the\n",
      " |          pending events and summaries to disk.\n",
      " |        graph_def: DEPRECATED: Use the `graph` argument instead.\n",
      " |        filename_suffix: A string. Every event file's name is suffixed with\n",
      " |          `suffix`.\n",
      " |  \n",
      " |  add_event(self, event)\n",
      " |      Adds an event to the event file.\n",
      " |      \n",
      " |      Args:\n",
      " |        event: An `Event` protocol buffer.\n",
      " |  \n",
      " |  close(self)\n",
      " |      Flushes the event file to disk and close the file.\n",
      " |      \n",
      " |      Call this method when you do not need the summary writer anymore.\n",
      " |  \n",
      " |  flush(self)\n",
      " |      Flushes the event file to disk.\n",
      " |      \n",
      " |      Call this method to make sure that all pending events have been written to\n",
      " |      disk.\n",
      " |  \n",
      " |  get_logdir(self)\n",
      " |      Returns the directory where event file will be written.\n",
      " |  \n",
      " |  reopen(self)\n",
      " |      Reopens the EventFileWriter.\n",
      " |      \n",
      " |      Can be called after `close()` to add more events in the same directory.\n",
      " |      The events will go into a new events file.\n",
      " |      \n",
      " |      Does nothing if the EventFileWriter was not closed.\n",
      " |  \n",
      " |  ----------------------------------------------------------------------\n",
      " |  Methods inherited from SummaryToEventTransformer:\n",
      " |  \n",
      " |  add_graph(self, graph, global_step=None, graph_def=None)\n",
      " |      Adds a `Graph` to the event file.\n",
      " |      \n",
      " |      The graph described by the protocol buffer will be displayed by\n",
      " |      TensorBoard. Most users pass a graph in the constructor instead.\n",
      " |      \n",
      " |      Args:\n",
      " |        graph: A `Graph` object, such as `sess.graph`.\n",
      " |        global_step: Number. Optional global step counter to record with the\n",
      " |          graph.\n",
      " |        graph_def: DEPRECATED. Use the `graph` parameter instead.\n",
      " |      \n",
      " |      Raises:\n",
      " |        ValueError: If both graph and graph_def are passed to the method.\n",
      " |  \n",
      " |  add_meta_graph(self, meta_graph_def, global_step=None)\n",
      " |      Adds a `MetaGraphDef` to the event file.\n",
      " |      \n",
      " |      The `MetaGraphDef` allows running the given graph via\n",
      " |      `saver.import_meta_graph()`.\n",
      " |      \n",
      " |      Args:\n",
      " |        meta_graph_def: A `MetaGraphDef` object, often as returned by\n",
      " |          `saver.export_meta_graph()`.\n",
      " |        global_step: Number. Optional global step counter to record with the\n",
      " |          graph.\n",
      " |      \n",
      " |      Raises:\n",
      " |        TypeError: If both `meta_graph_def` is not an instance of `MetaGraphDef`.\n",
      " |  \n",
      " |  add_run_metadata(self, run_metadata, tag, global_step=None)\n",
      " |      Adds a metadata information for a single session.run() call.\n",
      " |      \n",
      " |      Args:\n",
      " |        run_metadata: A `RunMetadata` protobuf object.\n",
      " |        tag: The tag name for this metadata.\n",
      " |        global_step: Number. Optional global step counter to record with the\n",
      " |          StepStats.\n",
      " |      \n",
      " |      Raises:\n",
      " |        ValueError: If the provided tag was already used for this type of event.\n",
      " |  \n",
      " |  add_session_log(self, session_log, global_step=None)\n",
      " |      Adds a `SessionLog` protocol buffer to the event file.\n",
      " |      \n",
      " |      This method wraps the provided session in an `Event` protocol buffer\n",
      " |      and adds it to the event file.\n",
      " |      \n",
      " |      Args:\n",
      " |        session_log: A `SessionLog` protocol buffer.\n",
      " |        global_step: Number. Optional global step value to record with the\n",
      " |          summary.\n",
      " |  \n",
      " |  add_summary(self, summary, global_step=None)\n",
      " |      Adds a `Summary` protocol buffer to the event file.\n",
      " |      \n",
      " |      This method wraps the provided summary in an `Event` protocol buffer\n",
      " |      and adds it to the event file.\n",
      " |      \n",
      " |      You can pass the result of evaluating any summary op, using\n",
      " |      @{tf.Session.run} or\n",
      " |      @{tf.Tensor.eval}, to this\n",
      " |      function. Alternatively, you can pass a `tf.Summary` protocol\n",
      " |      buffer that you populate with your own data. The latter is\n",
      " |      commonly done to report evaluation results in event files.\n",
      " |      \n",
      " |      Args:\n",
      " |        summary: A `Summary` protocol buffer, optionally serialized as a string.\n",
      " |        global_step: Number. Optional global step value to record with the\n",
      " |          summary.\n",
      " |  \n",
      " |  ----------------------------------------------------------------------\n",
      " |  Data descriptors inherited from SummaryToEventTransformer:\n",
      " |  \n",
      " |  __dict__\n",
      " |      dictionary for instance variables (if defined)\n",
      " |  \n",
      " |  __weakref__\n",
      " |      list of weak references to the object (if defined)\n",
      "\n"
     ]
    }
   ],
   "source": [
    "help(tf.summary.FileWriter)"
   ]
  },
  {
   "cell_type": "code",
   "execution_count": 6,
   "metadata": {},
   "outputs": [
    {
     "data": {
      "text/plain": [
       "[array([[  4800.,   5160.],\n",
       "        [ 10420.,  11200.],\n",
       "        [ 16040.,  17240.]], dtype=float32)]"
      ]
     },
     "execution_count": 6,
     "metadata": {},
     "output_type": "execute_result"
    }
   ],
   "source": [
    "c_out2"
   ]
  },
  {
   "cell_type": "code",
   "execution_count": null,
   "metadata": {
    "collapsed": true
   },
   "outputs": [],
   "source": []
  },
  {
   "cell_type": "code",
   "execution_count": 8,
   "metadata": {},
   "outputs": [],
   "source": [
    "# Import libraries for simulation\n",
    "import tensorflow as tf\n",
    "import numpy as np\n",
    "\n",
    "# Imports for visualization\n",
    "import PIL.Image\n",
    "from io import BytesIO\n",
    "from IPython.display import Image, display\n",
    "import matplotlib.pyplot as plt\n",
    "import matplotlib.image as mpimg\n",
    "%matplotlib inline"
   ]
  },
  {
   "cell_type": "code",
   "execution_count": 9,
   "metadata": {
    "collapsed": true
   },
   "outputs": [],
   "source": [
    "def DisplayFractal(a, fmt='jpeg'):\n",
    "  \"\"\"Display an array of iteration counts as a\n",
    "     colorful picture of a fractal.\"\"\"\n",
    "  a_cyclic = (6.28*a/20.0).reshape(list(a.shape)+[1])\n",
    "  img = np.concatenate([10+20*np.cos(a_cyclic),\n",
    "                        30+50*np.sin(a_cyclic),\n",
    "                        155-80*np.cos(a_cyclic)], 2)\n",
    "  img[a==a.max()] = 0\n",
    "  a = img\n",
    "  a = np.uint8(np.clip(a, 0, 255))\n",
    "  f = BytesIO()\n",
    "  PIL.Image.fromarray(a).save(f, fmt)\n",
    "  #display(Image(data=f.getvalue()))\n",
    "  plt.imshow(a)\n",
    "  plt.show()"
   ]
  },
  {
   "cell_type": "code",
   "execution_count": 11,
   "metadata": {
    "collapsed": true
   },
   "outputs": [],
   "source": [
    "tf.reset_default_graph()\n",
    "sess = tf.InteractiveSession()"
   ]
  },
  {
   "cell_type": "code",
   "execution_count": 12,
   "metadata": {
    "collapsed": true
   },
   "outputs": [],
   "source": [
    "Y, X = np.mgrid[-1.3:1.3:0.005, -2:1:0.005]\n",
    "Z = X+1j*Y"
   ]
  },
  {
   "cell_type": "code",
   "execution_count": 13,
   "metadata": {
    "collapsed": true
   },
   "outputs": [],
   "source": [
    "xs = tf.constant(Z.astype(np.complex64), name='xs')\n",
    "zs = tf.Variable(xs, name='zs')\n",
    "ns = tf.Variable(tf.zeros_like(xs, tf.float32), name='ns')\n"
   ]
  },
  {
   "cell_type": "code",
   "execution_count": 14,
   "metadata": {
    "collapsed": true
   },
   "outputs": [],
   "source": [
    "tf.global_variables_initializer().run()"
   ]
  },
  {
   "cell_type": "code",
   "execution_count": 15,
   "metadata": {
    "collapsed": true
   },
   "outputs": [],
   "source": [
    "zs_ = zs*zs + xs"
   ]
  },
  {
   "cell_type": "code",
   "execution_count": 16,
   "metadata": {
    "collapsed": true
   },
   "outputs": [],
   "source": [
    "not_diverged = tf.abs(zs_) < 4"
   ]
  },
  {
   "cell_type": "code",
   "execution_count": 17,
   "metadata": {
    "collapsed": true
   },
   "outputs": [],
   "source": [
    "step = tf.group(\n",
    "  zs.assign(zs_),\n",
    "  ns.assign_add(tf.cast(not_diverged, tf.float32, name='casty'))\n",
    "  )"
   ]
  },
  {
   "cell_type": "code",
   "execution_count": 18,
   "metadata": {
    "collapsed": true
   },
   "outputs": [],
   "source": [
    "for i in range(200):\n",
    "    step.run()"
   ]
  },
  {
   "cell_type": "code",
   "execution_count": 19,
   "metadata": {},
   "outputs": [
    {
     "data": {
      "image/png": "[encoded data removed]",
      "text/plain": [
       "<matplotlib.figure.Figure at 0x169be5aa198>"
      ]
     },
     "metadata": {},
     "output_type": "display_data"
    }
   ],
   "source": [
    "plt.figure(figsize=(6, 6))\n",
    "DisplayFractal(ns.eval())\n",
    "plt.show()"
   ]
  },
  {
   "cell_type": "code",
   "execution_count": 21,
   "metadata": {
    "collapsed": true
   },
   "outputs": [],
   "source": [
    "writer = tf.summary.FileWriter(logdir=\"/tmp/test\", graph=sess.graph)"
   ]
  },
  {
   "cell_type": "code",
   "execution_count": 20,
   "metadata": {
    "collapsed": true
   },
   "outputs": [],
   "source": [
    "sess.close()"
   ]
  },
  {
   "cell_type": "code",
   "execution_count": null,
   "metadata": {},
   "outputs": [],
   "source": []
  },
  {
   "cell_type": "code",
   "execution_count": null,
   "metadata": {
    "collapsed": true
   },
   "outputs": [],
   "source": [
    "import tensorflow as tf\n",
    "import numpy as np\n",
    "#sess = tf.InteractiveSession()  #define a session\n",
    "# Create 100 phony x, y data points in NumPy, y = x * 0.1 + 0.3\n",
    "x_data = np.random.rand(100).astype(\"float32\")\n",
    "y_data = x_data * 0.1 + 0.3\n",
    "\n",
    "# Try to find values for W and b that compute y_data = W * x_data + b\n",
    "# (We know that W should be 0.1 and b 0.3, but Tensorflow will\n",
    "# figure that out for us.)\n",
    "W = tf.Variable(tf.random_uniform([1], -1.0, 1.0))\n",
    "b = tf.Variable(tf.zeros([1]))\n",
    "y = W * x_data + b\n",
    "\n",
    "# Minimize the mean squared errors.\n",
    "loss = tf.reduce_mean(tf.square(y - y_data))\n",
    "optimizer = tf.train.GradientDescentOptimizer(0.5)\n",
    "train = optimizer.minimize(loss)\n",
    "\n",
    "# Before starting, initialize the variables.  We will 'run' this first.\n",
    "init = tf.global_variables_initializer()\n",
    "\n",
    "# Launch the graph.\n",
    "sess = tf.Session()\n",
    "sess.run(init)\n",
    "\n",
    "#### ----> ADD THIS LINE <---- ####\n",
    "writer = tf.summary.FileWriter(\"/tmp/test\", sess.graph)\n",
    "\n",
    "# Fit the line.\n",
    "for step in range(201):\n",
    "    sess.run(train)\n",
    "    if step % 20 == 0:\n",
    "        print(step, sess.run(W), sess.run(b))\n",
    "\n",
    "# Learns best fit is W: [0.1], b: [0.3]"
   ]
  },
  {
   "cell_type": "code",
   "execution_count": null,
   "metadata": {
    "collapsed": true
   },
   "outputs": [],
   "source": [
    "import tensorflow as tf\n",
    "import numpy as np\n",
    "# reset everything to rerun in jupyter\n",
    "tf.reset_default_graph()\n",
    "\n",
    "# config\n",
    "batch_size = 100\n",
    "learning_rate = 0.5\n",
    "training_epochs = 5\n",
    "logs_path = \"/tmp/mnist/2\"\n",
    "\n",
    "# load mnist data set\n",
    "from tensorflow.examples.tutorials.mnist import input_data\n",
    "mnist = input_data.read_data_sets('MNIST_data', one_hot=True)\n",
    "\n",
    "# input images\n",
    "with tf.name_scope('input'):\n",
    "    # None -> batch size can be any size, 784 -> flattened mnist image\n",
    "    x = tf.placeholder(tf.float32, shape=[None, 784], name=\"x-input\") \n",
    "    # target 10 output classes\n",
    "    y_ = tf.placeholder(tf.float32, shape=[None, 10], name=\"y-input\")\n",
    "\n",
    "# model parameters will change during training so we use tf.Variable\n",
    "with tf.name_scope(\"weights\"):\n",
    "    W = tf.Variable(tf.zeros([784, 10]))\n",
    "\n",
    "# bias\n",
    "with tf.name_scope(\"biases\"):\n",
    "    b = tf.Variable(tf.zeros([10]))\n",
    "\n",
    "# implement model\n",
    "with tf.name_scope(\"softmax\"):\n",
    "    # y is our prediction\n",
    "    y = tf.nn.softmax(tf.matmul(x,W) + b)\n",
    "\n",
    "# specify cost function\n",
    "with tf.name_scope('cross_entropy'):\n",
    "    # this is our cost\n",
    "    cross_entropy = tf.reduce_mean(-tf.reduce_sum(y_ * tf.log(y), reduction_indices=[1]))\n",
    "\n",
    "# specify optimizer\n",
    "with tf.name_scope('train'):\n",
    "    # optimizer is an \"operation\" which we can execute in a session\n",
    "    train_op = tf.train.GradientDescentOptimizer(learning_rate).minimize(cross_entropy)\n",
    "\n",
    "with tf.name_scope('Accuracy'):\n",
    "    # Accuracy\n",
    "    correct_prediction = tf.equal(tf.argmax(y,1), tf.argmax(y_,1))\n",
    "    accuracy = tf.reduce_mean(tf.cast(correct_prediction, tf.float32))\n",
    "    \n",
    "# create a summary for our cost and accuracy\n",
    "tf.scalar_summary(\"cost\", cross_entropy)\n",
    "tf.scalar_summary(\"accuracy\", accuracy)\n",
    "\n",
    "# merge all summaries into a single \"operation\" which we can execute in a session \n",
    "summary_op = tf.merge_all_summaries()\n",
    "\n",
    "with tf.Session() as sess:\n",
    "    # variables need to be initialized before we can use them\n",
    "    sess.run(tf.initialize_all_variables())\n",
    "\n",
    "    # create log writer object\n",
    "    writer = tf.train.SummaryWriter(logs_path, graph=tf.get_default_graph())\n",
    "        \n",
    "    # perform training cycles\n",
    "    for epoch in range(training_epochs):\n",
    "        \n",
    "        # number of batches in one epoch\n",
    "        batch_count = int(mnist.train.num_examples/batch_size)\n",
    "        \n",
    "        for i in range(batch_count):\n",
    "            batch_x, batch_y = mnist.train.next_batch(batch_size)\n",
    "            \n",
    "            # perform the operations we defined earlier on batch\n",
    "            _, summary = sess.run([train_op, summary_op], feed_dict={x: batch_x, y_: batch_y})\n",
    "            \n",
    "            # write log\n",
    "            writer.add_summary(summary, epoch * batch_count + i)\n",
    "            \n",
    "        if epoch % 5 == 0: \n",
    "            print(\"Epoch: \", epoch)\n",
    "    print (\"Accuracy: \", accuracy.eval(feed_dict={x: mnist.test.images, y_: mnist.test.labels}))\n",
    "    print (\"done\")"
   ]
  }
 ],
 "metadata": {
  "kernelspec": {
   "display_name": "Python 3",
   "language": "python",
   "name": "python3"
  },
  "language_info": {
   "codemirror_mode": {
    "name": "ipython",
    "version": 3
   },
   "file_extension": ".py",
   "mimetype": "text/x-python",
   "name": "python",
   "nbconvert_exporter": "python",
   "pygments_lexer": "ipython3",
   "version": "3.5.4"
  }
 },
 "nbformat": 4,
 "nbformat_minor": 2
}
