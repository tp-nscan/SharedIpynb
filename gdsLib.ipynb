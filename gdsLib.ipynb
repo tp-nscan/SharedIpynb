{
 "cells": [
  {
   "cell_type": "code",
   "execution_count": 2,
   "metadata": {
    "collapsed": false
   },
   "outputs": [],
   "source": [
    "%matplotlib inline\n",
    "import pandas as pd\n",
    "import matplotlib\n",
    "import numpy as np\n",
    "import random\n",
    "import matplotlib.cm as cm\n",
    "import matplotlib.mlab as mlab\n",
    "import matplotlib.pyplot as plt\n",
    "import matplotlib.patheffects as PathEffects\n",
    "import seaborn as sns; sns.set()\n",
    "import DataTypes as dt\n",
    "import Lattice as lat\n",
    "import LatticePlot as lp\n",
    "import BuildMatrix as bm\n",
    "np.core.arrayprint._line_width = 160"
   ]
  },
  {
   "cell_type": "markdown",
   "metadata": {},
   "source": [
    "#### Random orthonormal vectors"
   ]
  },
  {
   "cell_type": "code",
   "execution_count": 3,
   "metadata": {
    "collapsed": false
   },
   "outputs": [
    {
     "data": {
      "text/plain": [
       "(matrix([[-0.77764338, -0.03886861],\n",
       "         [-0.20635389, -0.33404893],\n",
       "         [-0.50837129,  0.30480459],\n",
       "         [ 0.0237947 , -0.85562095],\n",
       "         [-0.306074  , -0.24881218]]), matrix([[ 1.,  0.],\n",
       "         [ 0.,  1.]]))"
      ]
     },
     "execution_count": 3,
     "metadata": {},
     "output_type": "execute_result"
    }
   ],
   "source": [
    "vecs = np.matrix(bm.randOrthoNormals(d=5, count=2))\n",
    "(vecs, np.transpose(vecs) * vecs)"
   ]
  },
  {
   "cell_type": "code",
   "execution_count": 5,
   "metadata": {
    "collapsed": false
   },
   "outputs": [
    {
     "data": {
      "text/plain": [
       "array([[-0.97390604, -0.07187731],\n",
       "       [ 0.08731928, -0.07749102],\n",
       "       [ 0.01123891, -0.81932035],\n",
       "       [ 0.00591198,  0.49333359],\n",
       "       [-0.20909594,  0.27233236]])"
      ]
     },
     "execution_count": 5,
     "metadata": {},
     "output_type": "execute_result"
    }
   ],
   "source": [
    "bm.randOrthoNormals(d=5, count=2)"
   ]
  },
  {
   "cell_type": "markdown",
   "metadata": {},
   "source": [
    "#### Create tuples that label lattice points"
   ]
  },
  {
   "cell_type": "code",
   "execution_count": 6,
   "metadata": {
    "collapsed": false
   },
   "outputs": [
    {
     "data": {
      "text/plain": [
       "([0, 1], [('a', 0), ('a', 1)])"
      ]
     },
     "execution_count": 6,
     "metadata": {},
     "output_type": "execute_result"
    }
   ],
   "source": [
    "lat.LatticeTuplesD1(None, x_len=2), lat.LatticeTuplesD1(\"a\", x_len=2)"
   ]
  },
  {
   "cell_type": "code",
   "execution_count": 7,
   "metadata": {
    "collapsed": false
   },
   "outputs": [
    {
     "data": {
      "text/plain": [
       "([(0, 0), (0, 1), (1, 0), (1, 1)], [('a', 0, 0), ('a', 1, 0)])"
      ]
     },
     "execution_count": 7,
     "metadata": {},
     "output_type": "execute_result"
    }
   ],
   "source": [
    "lat.LatticeTuplesD2(None, x_len=2, y_len=2), lat.LatticeTuplesD2(\"a\", x_len=2, y_len=1)"
   ]
  },
  {
   "cell_type": "code",
   "execution_count": 8,
   "metadata": {
    "collapsed": false
   },
   "outputs": [
    {
     "data": {
      "text/plain": [
       "([(0, 0, 0), (0, 0, 1), (1, 0, 0), (1, 0, 1)],\n",
       " [('a', 0, 0, 0), ('a', 1, 0, 0)])"
      ]
     },
     "execution_count": 8,
     "metadata": {},
     "output_type": "execute_result"
    }
   ],
   "source": [
    "lat.LatticeTuplesD3(None, x_len=2, y_len=1, z_len=2), lat.LatticeTuplesD3(\"a\", x_len=2, y_len=1, z_len=1)"
   ]
  },
  {
   "cell_type": "markdown",
   "metadata": {},
   "source": [
    "#### some constants that are used in the next few sections"
   ]
  },
  {
   "cell_type": "code",
   "execution_count": 9,
   "metadata": {
    "collapsed": true
   },
   "outputs": [],
   "source": [
    "dim = 2; stepsX = 3; stepsY = 4; stepsZ = 1"
   ]
  },
  {
   "cell_type": "code",
   "execution_count": 10,
   "metadata": {
    "collapsed": false
   },
   "outputs": [
    {
     "data": {
      "text/plain": [
       "[(0, 0),\n",
       " (0, 1),\n",
       " (0, 2),\n",
       " (0, 3),\n",
       " (1, 0),\n",
       " (1, 1),\n",
       " (1, 2),\n",
       " (1, 3),\n",
       " (2, 0),\n",
       " (2, 1),\n",
       " (2, 2),\n",
       " (2, 3)]"
      ]
     },
     "execution_count": 10,
     "metadata": {},
     "output_type": "execute_result"
    }
   ],
   "source": [
    "[(x, y) for x in range(stepsX) for y in range(stepsY)]"
   ]
  },
  {
   "cell_type": "markdown",
   "metadata": {},
   "source": [
    "#### For creating 2d numpy arrays of uniform lattices over the unit N-cube for N = {2, 3}"
   ]
  },
  {
   "cell_type": "code",
   "execution_count": 11,
   "metadata": {
    "collapsed": false
   },
   "outputs": [
    {
     "data": {
      "text/plain": [
       "array([[ 0.        ,  0.        ,  0.        ,  0.        ,  0.5       ,  0.5       ,  0.5       ,  0.5       ,  1.        ,  1.        ,  1.        ,  1.        ],\n",
       "       [ 0.        ,  0.33333333,  0.66666667,  1.        ,  0.        ,  0.33333333,  0.66666667,  1.        ,  0.        ,  0.33333333,  0.66666667,  1.        ]])"
      ]
     },
     "execution_count": 11,
     "metadata": {},
     "output_type": "execute_result"
    }
   ],
   "source": [
    "lat.MakeD2UnitLattice(span_x=stepsX, span_y=stepsY)"
   ]
  },
  {
   "cell_type": "code",
   "execution_count": 12,
   "metadata": {
    "collapsed": false
   },
   "outputs": [
    {
     "data": {
      "text/plain": [
       "array([[ 0.        ,  0.        ,  0.        ,  0.        ,  0.5       ,  0.5       ,  0.5       ,  0.5       ,  1.        ,  1.        ,  1.        ,  1.        ],\n",
       "       [ 0.        ,  0.33333333,  0.66666667,  1.        ,  0.        ,  0.33333333,  0.66666667,  1.        ,  0.        ,  0.33333333,  0.66666667,  1.        ],\n",
       "       [ 0.        ,  0.        ,  0.        ,  0.        ,  0.        ,  0.        ,  0.        ,  0.        ,  0.        ,  0.        ,  0.        ,  0.        ]])"
      ]
     },
     "execution_count": 12,
     "metadata": {},
     "output_type": "execute_result"
    }
   ],
   "source": [
    "lat.MakeD3UnitLattice(span_x=stepsX, span_y=stepsY, span_z=stepsZ)"
   ]
  },
  {
   "cell_type": "markdown",
   "metadata": {},
   "source": [
    "#### Color mapping"
   ]
  },
  {
   "cell_type": "code",
   "execution_count": 13,
   "metadata": {
    "collapsed": false
   },
   "outputs": [
    {
     "data": {
      "image/png": "[encoded data removed]",
      "text/plain": [
       "<matplotlib.figure.Figure at 0x1c909b3c048>"
      ]
     },
     "metadata": {},
     "output_type": "display_data"
    }
   ],
   "source": [
    "cr = lp.MakeRedBlueGridColorer(span_x=stepsX, span_y=stepsY)\n",
    "clrs = [cr((x, y)) for x in range(stepsX) for y in range(stepsY)]\n",
    "sns.palplot(clrs)"
   ]
  },
  {
   "cell_type": "markdown",
   "metadata": {},
   "source": [
    "#### Create a 2d lattice of vectors in N dimenstional space, packaged as TaggedNVectors"
   ]
  },
  {
   "cell_type": "code",
   "execution_count": 14,
   "metadata": {
    "collapsed": false
   },
   "outputs": [
    {
     "data": {
      "image/png": "[encoded data removed]",
      "text/plain": [
       "<matplotlib.figure.Figure at 0x1c909bbd470>"
      ]
     },
     "metadata": {},
     "output_type": "display_data"
    }
   ],
   "source": [
    "rasty = lat.MakeD2Lattice(spans=np.identity(dim), steps1=stepsX, steps2=stepsY, center=np.array([1, 10]))\n",
    "r = lp.PlotTaggedNVectorsGrid(rasty, span_x=stepsX, span_y=stepsY, figsize=(6, 4), markersize=10)"
   ]
  },
  {
   "cell_type": "code",
   "execution_count": 15,
   "metadata": {
    "collapsed": false
   },
   "outputs": [
    {
     "data": {
      "image/png": "[encoded data removed]",
      "text/plain": [
       "<matplotlib.figure.Figure at 0x1c909bbd828>"
      ]
     },
     "metadata": {},
     "output_type": "display_data"
    }
   ],
   "source": [
    "q = lat.MakeRndOrthoD2Lattice(dim=dim, steps1=stepsX, steps2=stepsY, seed=1234)\n",
    "outs = lp.PlotTaggedNVectorsGrid(q, span_x=stepsX, span_y=stepsY, figsize=(6, 4), markersize=10)"
   ]
  },
  {
   "cell_type": "code",
   "execution_count": null,
   "metadata": {
    "collapsed": true
   },
   "outputs": [],
   "source": []
  },
  {
   "cell_type": "markdown",
   "metadata": {},
   "source": [
    "#### Create a set of uniform gaussians around each of the provided vectors"
   ]
  },
  {
   "cell_type": "code",
   "execution_count": 16,
   "metadata": {
    "collapsed": false
   },
   "outputs": [],
   "source": [
    "def drawAroundVecs(tvs:dt.TaggedNVectors, blobStdev:float=1.0, pointsPerBlob:int=10):\n",
    "    blobVecs = tvs.vectors\n",
    "    blobTags = tvs.tags\n",
    "    dim = len(blobVecs[0])\n",
    "    return dt.TaggedNVectors(\n",
    "        vectors = np.vstack(np.array([np.random.multivariate_normal(\n",
    "                                        blobVecs[i], \n",
    "                                        np.matrix(np.diag([blobStdev] * dim)), \n",
    "                                        pointsPerBlob) \n",
    "                              for i in range(len(blobVecs))])),\n",
    "        tags = [i for i in blobTags for a in range(pointsPerBlob)]\n",
    "    )"
   ]
  },
  {
   "cell_type": "code",
   "execution_count": 17,
   "metadata": {
    "collapsed": false
   },
   "outputs": [
    {
     "ename": "TypeError",
     "evalue": "__new__() got an unexpected keyword argument 'vectors'",
     "output_type": "error",
     "traceback": [
      "\u001b[1;31m---------------------------------------------------------------------------\u001b[0m",
      "\u001b[1;31mTypeError\u001b[0m                                 Traceback (most recent call last)",
      "\u001b[1;32m<ipython-input-17-39721fb6d8e9>\u001b[0m in \u001b[0;36m<module>\u001b[1;34m()\u001b[0m\n\u001b[1;32m----> 1\u001b[1;33m \u001b[0mtestCenters\u001b[0m \u001b[1;33m=\u001b[0m \u001b[0mdt\u001b[0m\u001b[1;33m.\u001b[0m\u001b[0mTaggedNVectors\u001b[0m\u001b[1;33m(\u001b[0m\u001b[0mvectors\u001b[0m\u001b[1;33m=\u001b[0m\u001b[0mnp\u001b[0m\u001b[1;33m.\u001b[0m\u001b[0marray\u001b[0m\u001b[1;33m(\u001b[0m\u001b[1;33m[\u001b[0m\u001b[1;33m[\u001b[0m\u001b[1;36m0\u001b[0m\u001b[1;33m,\u001b[0m\u001b[1;36m0\u001b[0m\u001b[1;33m]\u001b[0m\u001b[1;33m,\u001b[0m \u001b[1;33m[\u001b[0m\u001b[1;36m1\u001b[0m\u001b[1;33m,\u001b[0m\u001b[1;36m1\u001b[0m\u001b[1;33m]\u001b[0m\u001b[1;33m]\u001b[0m\u001b[1;33m)\u001b[0m\u001b[1;33m,\u001b[0m \u001b[0mtags\u001b[0m\u001b[1;33m=\u001b[0m\u001b[1;33m[\u001b[0m\u001b[1;33m(\u001b[0m\u001b[1;36m0\u001b[0m\u001b[1;33m,\u001b[0m\u001b[1;36m1\u001b[0m\u001b[1;33m)\u001b[0m\u001b[1;33m,\u001b[0m \u001b[1;33m(\u001b[0m\u001b[1;36m1\u001b[0m\u001b[1;33m,\u001b[0m\u001b[1;36m1\u001b[0m\u001b[1;33m)\u001b[0m\u001b[1;33m]\u001b[0m\u001b[1;33m)\u001b[0m\u001b[1;33m\u001b[0m\u001b[0m\n\u001b[0m\u001b[0;32m      2\u001b[0m \u001b[0mblobs\u001b[0m \u001b[1;33m=\u001b[0m \u001b[0mdrawAroundVecs\u001b[0m\u001b[1;33m(\u001b[0m\u001b[0mtvs\u001b[0m\u001b[1;33m=\u001b[0m\u001b[0mtestCenters\u001b[0m\u001b[1;33m,\u001b[0m \u001b[0mblobStdev\u001b[0m\u001b[1;33m=\u001b[0m\u001b[1;36m0.25\u001b[0m\u001b[1;33m,\u001b[0m \u001b[0mpointsPerBlob\u001b[0m\u001b[1;33m=\u001b[0m\u001b[1;36m50\u001b[0m\u001b[1;33m)\u001b[0m\u001b[1;33m\u001b[0m\u001b[0m\n\u001b[0;32m      3\u001b[0m \u001b[1;33m\u001b[0m\u001b[0m\n\u001b[0;32m      4\u001b[0m \u001b[0mrr\u001b[0m \u001b[1;33m=\u001b[0m \u001b[0mlp\u001b[0m\u001b[1;33m.\u001b[0m\u001b[0mPlotTaggedNVectors\u001b[0m\u001b[1;33m(\u001b[0m\u001b[0mtvs\u001b[0m\u001b[1;33m=\u001b[0m\u001b[0mblobs\u001b[0m\u001b[1;33m,\u001b[0m \u001b[0mmarkersize\u001b[0m\u001b[1;33m=\u001b[0m\u001b[1;36m5\u001b[0m\u001b[1;33m)\u001b[0m\u001b[1;33m\u001b[0m\u001b[0m\n",
      "\u001b[1;31mTypeError\u001b[0m: __new__() got an unexpected keyword argument 'vectors'"
     ]
    }
   ],
   "source": [
    "testCenters = dt.TaggedNVectors(vectors=np.array([[0,0], [1,1]]), tags=[(0,1), (1,1)])\n",
    "blobs = drawAroundVecs(tvs=testCenters, blobStdev=0.25, pointsPerBlob=50)\n",
    "\n",
    "rr = lp.PlotTaggedNVectors(tvs=blobs, markersize=5)"
   ]
  },
  {
   "cell_type": "markdown",
   "metadata": {},
   "source": [
    "#### Create a 2d lattice of gaussians in the plane specified by the two input vectors."
   ]
  },
  {
   "cell_type": "code",
   "execution_count": 18,
   "metadata": {
    "collapsed": true
   },
   "outputs": [],
   "source": [
    "def GetUnitMatrix(dim:int, s:float):\n",
    "    '''returns a diagonal matrix with all s on the diagonal'''\n",
    "    return np.identity(dim) * s"
   ]
  },
  {
   "cell_type": "code",
   "execution_count": 19,
   "metadata": {
    "collapsed": false
   },
   "outputs": [
    {
     "data": {
      "text/plain": [
       "array([[ 99.,   0.,   0.],\n",
       "       [  0.,  99.,   0.],\n",
       "       [  0.,   0.,  99.]])"
      ]
     },
     "execution_count": 19,
     "metadata": {},
     "output_type": "execute_result"
    }
   ],
   "source": [
    "q = GetUnitMatrix(3, 33)\n",
    "q * 3\n"
   ]
  },
  {
   "cell_type": "code",
   "execution_count": 20,
   "metadata": {
    "collapsed": false
   },
   "outputs": [
    {
     "data": {
      "text/plain": [
       "numpy.matrixlib.defmatrix.matrix"
      ]
     },
     "execution_count": 20,
     "metadata": {},
     "output_type": "execute_result"
    }
   ],
   "source": [
    "quak = np.matrix([[1,2], [3,4]])\n",
    "expp = np.matrix(np.diag([2,2]))\n",
    "type(quak * expp)"
   ]
  },
  {
   "cell_type": "code",
   "execution_count": 21,
   "metadata": {
    "collapsed": false
   },
   "outputs": [],
   "source": [
    "rasty = lat.MakeD2Lattice(spans=np.identity(dim), steps1=stepsX, steps2=stepsY)\n",
    "def d2LatticeOfGaussians(spans:np.matrixlib.defmatrix.matrix=np.identity(2), arrayRadius:float=1, steps1:int=3, steps2:int=4, blobStdev:float=1.0, pointsPerBlob:int=10):\n",
    "    d2Lattice = rasterOverCenteredSquare(v1=v1, v2=v2, radius=arrayRadius, stride=stride)\n",
    "    return drawAroundVecs(tvs=TaggedNVectors(vectors=d2Lattice.vectors, tags=d2Lattice.coords), \n",
    "                          blobStdev=blobStdev, \n",
    "                          pointsPerBlob=pointsPerBlob)"
   ]
  },
  {
   "cell_type": "code",
   "execution_count": 22,
   "metadata": {
    "collapsed": false
   },
   "outputs": [
    {
     "ename": "NameError",
     "evalue": "name 'rasterOverCenteredSquare' is not defined",
     "output_type": "error",
     "traceback": [
      "\u001b[1;31m---------------------------------------------------------------------------\u001b[0m",
      "\u001b[1;31mNameError\u001b[0m                                 Traceback (most recent call last)",
      "\u001b[1;32m<ipython-input-22-3cf77209cbae>\u001b[0m in \u001b[0;36m<module>\u001b[1;34m()\u001b[0m\n\u001b[0;32m      5\u001b[0m                           \u001b[0msteps2\u001b[0m\u001b[1;33m=\u001b[0m\u001b[0mblobStride\u001b[0m\u001b[1;33m,\u001b[0m\u001b[1;33m\u001b[0m\u001b[0m\n\u001b[0;32m      6\u001b[0m                           \u001b[0mblobStdev\u001b[0m\u001b[1;33m=\u001b[0m\u001b[1;36m0.01\u001b[0m\u001b[1;33m,\u001b[0m\u001b[1;33m\u001b[0m\u001b[0m\n\u001b[1;32m----> 7\u001b[1;33m                           pointsPerBlob=50)\n\u001b[0m\u001b[0;32m      8\u001b[0m \u001b[0mr4\u001b[0m \u001b[1;33m=\u001b[0m \u001b[0mPlotTaggedNVectorsGrid\u001b[0m\u001b[1;33m(\u001b[0m\u001b[0mblobsL\u001b[0m\u001b[1;33m,\u001b[0m \u001b[0mspan_x\u001b[0m\u001b[1;33m=\u001b[0m\u001b[0mblobStride\u001b[0m\u001b[1;33m,\u001b[0m \u001b[0mspan_y\u001b[0m\u001b[1;33m=\u001b[0m\u001b[0mblobStride\u001b[0m\u001b[1;33m,\u001b[0m \u001b[0mfigsize\u001b[0m\u001b[1;33m=\u001b[0m\u001b[1;33m(\u001b[0m\u001b[1;36m6\u001b[0m\u001b[1;33m,\u001b[0m\u001b[1;36m6\u001b[0m\u001b[1;33m)\u001b[0m\u001b[1;33m,\u001b[0m \u001b[0mmarkersize\u001b[0m\u001b[1;33m=\u001b[0m\u001b[1;36m5\u001b[0m\u001b[1;33m)\u001b[0m\u001b[1;33m\u001b[0m\u001b[0m\n",
      "\u001b[1;32m<ipython-input-21-133ab887a873>\u001b[0m in \u001b[0;36md2LatticeOfGaussians\u001b[1;34m(spans, arrayRadius, steps1, steps2, blobStdev, pointsPerBlob)\u001b[0m\n\u001b[0;32m      1\u001b[0m \u001b[0mrasty\u001b[0m \u001b[1;33m=\u001b[0m \u001b[0mlat\u001b[0m\u001b[1;33m.\u001b[0m\u001b[0mMakeD2Lattice\u001b[0m\u001b[1;33m(\u001b[0m\u001b[0mspans\u001b[0m\u001b[1;33m=\u001b[0m\u001b[0mnp\u001b[0m\u001b[1;33m.\u001b[0m\u001b[0midentity\u001b[0m\u001b[1;33m(\u001b[0m\u001b[0mdim\u001b[0m\u001b[1;33m)\u001b[0m\u001b[1;33m,\u001b[0m \u001b[0msteps1\u001b[0m\u001b[1;33m=\u001b[0m\u001b[0mstepsX\u001b[0m\u001b[1;33m,\u001b[0m \u001b[0msteps2\u001b[0m\u001b[1;33m=\u001b[0m\u001b[0mstepsY\u001b[0m\u001b[1;33m)\u001b[0m\u001b[1;33m\u001b[0m\u001b[0m\n\u001b[0;32m      2\u001b[0m \u001b[1;32mdef\u001b[0m \u001b[0md2LatticeOfGaussians\u001b[0m\u001b[1;33m(\u001b[0m\u001b[0mspans\u001b[0m\u001b[1;33m:\u001b[0m\u001b[0mnp\u001b[0m\u001b[1;33m.\u001b[0m\u001b[0mmatrixlib\u001b[0m\u001b[1;33m.\u001b[0m\u001b[0mdefmatrix\u001b[0m\u001b[1;33m.\u001b[0m\u001b[0mmatrix\u001b[0m\u001b[1;33m=\u001b[0m\u001b[0mnp\u001b[0m\u001b[1;33m.\u001b[0m\u001b[0midentity\u001b[0m\u001b[1;33m(\u001b[0m\u001b[1;36m2\u001b[0m\u001b[1;33m)\u001b[0m\u001b[1;33m,\u001b[0m \u001b[0marrayRadius\u001b[0m\u001b[1;33m:\u001b[0m\u001b[0mfloat\u001b[0m\u001b[1;33m=\u001b[0m\u001b[1;36m1\u001b[0m\u001b[1;33m,\u001b[0m \u001b[0msteps1\u001b[0m\u001b[1;33m:\u001b[0m\u001b[0mint\u001b[0m\u001b[1;33m=\u001b[0m\u001b[1;36m3\u001b[0m\u001b[1;33m,\u001b[0m \u001b[0msteps2\u001b[0m\u001b[1;33m:\u001b[0m\u001b[0mint\u001b[0m\u001b[1;33m=\u001b[0m\u001b[1;36m4\u001b[0m\u001b[1;33m,\u001b[0m \u001b[0mblobStdev\u001b[0m\u001b[1;33m:\u001b[0m\u001b[0mfloat\u001b[0m\u001b[1;33m=\u001b[0m\u001b[1;36m1.0\u001b[0m\u001b[1;33m,\u001b[0m \u001b[0mpointsPerBlob\u001b[0m\u001b[1;33m:\u001b[0m\u001b[0mint\u001b[0m\u001b[1;33m=\u001b[0m\u001b[1;36m10\u001b[0m\u001b[1;33m)\u001b[0m\u001b[1;33m:\u001b[0m\u001b[1;33m\u001b[0m\u001b[0m\n\u001b[1;32m----> 3\u001b[1;33m     \u001b[0md2Lattice\u001b[0m \u001b[1;33m=\u001b[0m \u001b[0mrasterOverCenteredSquare\u001b[0m\u001b[1;33m(\u001b[0m\u001b[0mv1\u001b[0m\u001b[1;33m=\u001b[0m\u001b[0mv1\u001b[0m\u001b[1;33m,\u001b[0m \u001b[0mv2\u001b[0m\u001b[1;33m=\u001b[0m\u001b[0mv2\u001b[0m\u001b[1;33m,\u001b[0m \u001b[0mradius\u001b[0m\u001b[1;33m=\u001b[0m\u001b[0marrayRadius\u001b[0m\u001b[1;33m,\u001b[0m \u001b[0mstride\u001b[0m\u001b[1;33m=\u001b[0m\u001b[0mstride\u001b[0m\u001b[1;33m)\u001b[0m\u001b[1;33m\u001b[0m\u001b[0m\n\u001b[0m\u001b[0;32m      4\u001b[0m     return drawAroundVecs(tvs=TaggedNVectors(vectors=d2Lattice.vectors, tags=d2Lattice.coords), \n\u001b[0;32m      5\u001b[0m                           \u001b[0mblobStdev\u001b[0m\u001b[1;33m=\u001b[0m\u001b[0mblobStdev\u001b[0m\u001b[1;33m,\u001b[0m\u001b[1;33m\u001b[0m\u001b[0m\n",
      "\u001b[1;31mNameError\u001b[0m: name 'rasterOverCenteredSquare' is not defined"
     ]
    }
   ],
   "source": [
    "blobStride = 4\n",
    "blobsL = d2LatticeOfGaussians(\n",
    "                          arrayRadius=3, \n",
    "                          steps1=blobStride, \n",
    "                          steps2=blobStride, \n",
    "                          blobStdev=0.01, \n",
    "                          pointsPerBlob=50)\n",
    "r4 = PlotTaggedNVectorsGrid(blobsL, span_x=blobStride, span_y=blobStride, figsize=(6,6), markersize=5)"
   ]
  },
  {
   "cell_type": "markdown",
   "metadata": {},
   "source": [
    "#### Samples from the N dimensional symmetric gaussian."
   ]
  },
  {
   "cell_type": "markdown",
   "metadata": {},
   "source": [
    "#### Nested lattices"
   ]
  },
  {
   "cell_type": "code",
   "execution_count": null,
   "metadata": {
    "collapsed": false
   },
   "outputs": [],
   "source": [
    "dim = 5\n",
    "count = 10\n",
    "mean = [np.random.randn() for i in range(dim)]\n",
    "np.random.multivariate_normal(mean, np.matrix(np.diag([1] * dim)), count)"
   ]
  },
  {
   "cell_type": "code",
   "execution_count": null,
   "metadata": {
    "collapsed": true
   },
   "outputs": [],
   "source": [
    "import sklearn\n",
    "from sklearn.manifold import TSNE"
   ]
  },
  {
   "cell_type": "markdown",
   "metadata": {},
   "source": [
    "### Stride 7, pointsPerBlob=100, dim = 100, arrayRadius=3 - vary seed, stdev"
   ]
  },
  {
   "cell_type": "code",
   "execution_count": null,
   "metadata": {
    "collapsed": false
   },
   "outputs": [],
   "source": [
    "strideA = 7\n",
    "ppb = 100\n",
    "dim = 100\n",
    "arrayRadius=3\n",
    "def varyStdevA(stdev, seed):\n",
    "    orthoPair = randOrthoNormals(dim=dim, count=2)\n",
    "    gridBlobs = d2LatticeOfGaussians(v1=orthoPair[0],\n",
    "                          v2=orthoPair[1],\n",
    "                          arrayRadius=arrayRadius,\n",
    "                          stride=strideA,\n",
    "                          blobStdev=stdev,\n",
    "                          pointsPerBlob=ppb)\n",
    "    grid_proj = TSNE(n_components=2, random_state=seed, init='random').fit_transform(gridBlobs.vectors)\n",
    "        \n",
    "    tsnu = TaggedNVectors(vectors=grid_proj, tags=gridBlobs.tags)\n",
    "    r77 = PlotTaggedNVectorsGrid(tsnu, span_x=strideA, span_y=strideA, figsize=(6,6), markersize=3)"
   ]
  },
  {
   "cell_type": "code",
   "execution_count": null,
   "metadata": {
    "collapsed": false
   },
   "outputs": [],
   "source": [
    "varyStdevA(0.075, 98154190)"
   ]
  },
  {
   "cell_type": "code",
   "execution_count": null,
   "metadata": {
    "collapsed": false
   },
   "outputs": [],
   "source": [
    "varyStdevA(0.1, 98154190)"
   ]
  },
  {
   "cell_type": "code",
   "execution_count": null,
   "metadata": {
    "collapsed": false
   },
   "outputs": [],
   "source": [
    "varyStdevA(0.15, 82154190)"
   ]
  },
  {
   "cell_type": "markdown",
   "metadata": {},
   "source": [
    "### Stride 7, pointsPerBlob=100, dim = 100, arrayRadius=4 - vary stdev, seed"
   ]
  },
  {
   "cell_type": "code",
   "execution_count": null,
   "metadata": {
    "collapsed": false
   },
   "outputs": [],
   "source": [
    "strideA = 7\n",
    "ppb = 100\n",
    "dim = 100\n",
    "arrayRadius=4\n",
    "def varyStdevB(stdev, seed):\n",
    "    orthoPair = randOrthoNormals(dim=dim, count=2)\n",
    "    gridBlobs = d2LatticeOfGaussians(v1=orthoPair[0],\n",
    "                          v2=orthoPair[1],\n",
    "                          arrayRadius=arrayRadius,\n",
    "                          stride=strideA,\n",
    "                          blobStdev=stdev,\n",
    "                          pointsPerBlob=ppb)\n",
    "    grid_proj = TSNE(n_components=2, random_state=seed, init='random').fit_transform(gridBlobs.vectors)\n",
    "        \n",
    "    tsnu = TaggedNVectors(vectors=grid_proj, tags=gridBlobs.tags)\n",
    "    r77 = PlotTaggedNVectorsGrid(tsnu, span_x=strideA, span_y=strideA, figsize=(6,6), markersize=3)"
   ]
  },
  {
   "cell_type": "code",
   "execution_count": null,
   "metadata": {
    "collapsed": false
   },
   "outputs": [],
   "source": [
    "varyStdevB(0.075, 98154190)"
   ]
  },
  {
   "cell_type": "code",
   "execution_count": null,
   "metadata": {
    "collapsed": false
   },
   "outputs": [],
   "source": [
    "varyStdevB(0.1, 98154190)"
   ]
  },
  {
   "cell_type": "code",
   "execution_count": null,
   "metadata": {
    "collapsed": false
   },
   "outputs": [],
   "source": [
    "varyStdevB(0.15, 98154190)"
   ]
  },
  {
   "cell_type": "markdown",
   "metadata": {},
   "source": [
    "### Stride=7, pointsPerBlob=200, dim=100, arrayRadius=4 - vary stdev, seed"
   ]
  },
  {
   "cell_type": "code",
   "execution_count": null,
   "metadata": {
    "collapsed": false
   },
   "outputs": [],
   "source": [
    "strideA = 7\n",
    "ppb = 200\n",
    "dim = 100\n",
    "arrayRadius=4\n",
    "def varyStdevC(stdev, seed):\n",
    "    orthoPair = randOrthoNormals(dim=dim, count=2)\n",
    "    gridBlobs = d2LatticeOfGaussians(v1=orthoPair[0], \n",
    "                          v2=orthoPair[1], \n",
    "                          arrayRadius=arrayRadius, \n",
    "                          stride=strideA, \n",
    "                          blobStdev=stdev, \n",
    "                          pointsPerBlob=ppb)\n",
    "    grid_proj = TSNE(n_components=2, random_state=seed, init='random').fit_transform(gridBlobs.vectors)\n",
    "        \n",
    "    tsnu = TaggedNVectors(vectors=grid_proj, tags=gridBlobs.tags)\n",
    "    r77 = PlotTaggedNVectorsGrid(tsnu, span_x=strideA, span_y=strideA, figsize=(6,6), markersize=3)"
   ]
  },
  {
   "cell_type": "code",
   "execution_count": null,
   "metadata": {
    "collapsed": false
   },
   "outputs": [],
   "source": [
    "varyStdevC(0.075, 98154190)"
   ]
  },
  {
   "cell_type": "code",
   "execution_count": null,
   "metadata": {
    "collapsed": false
   },
   "outputs": [],
   "source": [
    "varyStdevC(0.1, 98154190)"
   ]
  },
  {
   "cell_type": "code",
   "execution_count": null,
   "metadata": {
    "collapsed": false
   },
   "outputs": [],
   "source": [
    "varyStdevC(0.15, 98154190)"
   ]
  },
  {
   "cell_type": "markdown",
   "metadata": {
    "collapsed": true
   },
   "source": [
    "### Stride=6, pointsPerBlob=200, dim = 100, arrayRadius=5 - vary stdev, seed"
   ]
  },
  {
   "cell_type": "code",
   "execution_count": null,
   "metadata": {
    "collapsed": false
   },
   "outputs": [],
   "source": [
    "strideA = 6\n",
    "ppb = 200\n",
    "dim = 100\n",
    "arrayRadius=5\n",
    "def varyStdevD(stdev, seed):\n",
    "    orthoPair = randOrthoNormals(dim=dim, count=2)\n",
    "    gridBlobs = d2LatticeOfGaussians(v1=orthoPair[0], \n",
    "                          v2=orthoPair[1], \n",
    "                          arrayRadius=arrayRadius, \n",
    "                          stride=strideA, \n",
    "                          blobStdev=stdev, \n",
    "                          pointsPerBlob=ppb)\n",
    "    grid_proj = TSNE(n_components=2, random_state=seed, init='random').fit_transform(gridBlobs.vectors)\n",
    "        \n",
    "    tsnu = TaggedNVectors(vectors=grid_proj, tags=gridBlobs.tags)\n",
    "    r77 = PlotTaggedNVectorsGrid(tsnu, span_x=strideA, span_y=strideA, figsize=(6,6), markersize=3)"
   ]
  },
  {
   "cell_type": "code",
   "execution_count": null,
   "metadata": {
    "collapsed": false
   },
   "outputs": [],
   "source": [
    "varyStdevD(0.1, 98154190)"
   ]
  },
  {
   "cell_type": "code",
   "execution_count": null,
   "metadata": {
    "collapsed": false
   },
   "outputs": [],
   "source": [
    "varyStdevD(0.15, 98154190)"
   ]
  },
  {
   "cell_type": "code",
   "execution_count": null,
   "metadata": {
    "collapsed": false
   },
   "outputs": [],
   "source": [
    "varyStdevD(0.2, 98154190)"
   ]
  },
  {
   "cell_type": "code",
   "execution_count": null,
   "metadata": {
    "collapsed": true
   },
   "outputs": [],
   "source": []
  },
  {
   "cell_type": "code",
   "execution_count": null,
   "metadata": {
    "collapsed": true
   },
   "outputs": [],
   "source": []
  },
  {
   "cell_type": "code",
   "execution_count": null,
   "metadata": {
    "collapsed": false
   },
   "outputs": [],
   "source": [
    "strideA = 2\n",
    "ppb = 2\n",
    "dim = 3\n",
    "arrayRadius=10\n",
    "orthoPair = randOrthoNormals(dim=dim, count=2)\n",
    "gridBlobs = d2LatticeOfGaussians(v1=orthoPair[0], \n",
    "                      v2=orthoPair[1], \n",
    "                      arrayRadius=arrayRadius, \n",
    "                      stride=strideA, \n",
    "                      blobStdev=0.001, \n",
    "                      pointsPerBlob=ppb)"
   ]
  },
  {
   "cell_type": "code",
   "execution_count": null,
   "metadata": {
    "collapsed": false
   },
   "outputs": [],
   "source": [
    "gridBlobs"
   ]
  },
  {
   "cell_type": "code",
   "execution_count": null,
   "metadata": {
    "collapsed": false
   },
   "outputs": [],
   "source": [
    "tup = (1, 2)\n",
    "(tup, 1, 2)"
   ]
  },
  {
   "cell_type": "code",
   "execution_count": null,
   "metadata": {
    "collapsed": true
   },
   "outputs": [],
   "source": []
  }
 ],
 "metadata": {
  "kernelspec": {
   "display_name": "Python 3",
   "language": "python",
   "name": "python3"
  },
  "language_info": {
   "codemirror_mode": {
    "name": "ipython",
    "version": 3
   },
   "file_extension": ".py",
   "mimetype": "text/x-python",
   "name": "python",
   "nbconvert_exporter": "python",
   "pygments_lexer": "ipython3",
   "version": "3.5.3"
  }
 },
 "nbformat": 4,
 "nbformat_minor": 2
}
