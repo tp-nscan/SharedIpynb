{
 "cells": [
  {
   "cell_type": "code",
   "execution_count": 3,
   "metadata": {
    "collapsed": false
   },
   "outputs": [],
   "source": [
    "%matplotlib inline\n",
    "import pandas as pd\n",
    "import matplotlib\n",
    "import numpy as np\n",
    "import random\n",
    "import matplotlib.cm as cm\n",
    "import matplotlib.mlab as mlab\n",
    "import matplotlib.pyplot as plt\n",
    "import matplotlib.patheffects as PathEffects\n",
    "import seaborn as sns; sns.set()\n",
    "from collections import namedtuple\n",
    "np.core.arrayprint._line_width = 160"
   ]
  },
  {
   "cell_type": "markdown",
   "metadata": {},
   "source": [
    "#### Random orthonormal vectors"
   ]
  },
  {
   "cell_type": "code",
   "execution_count": null,
   "metadata": {
    "collapsed": false
   },
   "outputs": [],
   "source": [
    "vecs = np.matrix(bm.randOrthoNormals(d=5, count=2))\n",
    "(vecs, np.transpose(vecs) * vecs)"
   ]
  },
  {
   "cell_type": "code",
   "execution_count": null,
   "metadata": {
    "collapsed": false
   },
   "outputs": [],
   "source": [
    "bm.randOrthoNormals(d=5, count=2)"
   ]
  },
  {
   "cell_type": "markdown",
   "metadata": {},
   "source": [
    "#### Create tuples that label lattice points"
   ]
  },
  {
   "cell_type": "code",
   "execution_count": null,
   "metadata": {
    "collapsed": false
   },
   "outputs": [],
   "source": [
    "lat.LatticeTuplesD1(None, x_len=2), lat.LatticeTuplesD1(\"a\", x_len=2)"
   ]
  },
  {
   "cell_type": "code",
   "execution_count": null,
   "metadata": {
    "collapsed": false
   },
   "outputs": [],
   "source": [
    "lat.LatticeTuplesD2(None, x_len=2, y_len=2), lat.LatticeTuplesD2(\"a\", x_len=2, y_len=1)"
   ]
  },
  {
   "cell_type": "code",
   "execution_count": null,
   "metadata": {
    "collapsed": false
   },
   "outputs": [],
   "source": [
    "lat.LatticeTuplesD3(None, x_len=2, y_len=1, z_len=2), lat.LatticeTuplesD3(\"a\", x_len=2, y_len=1, z_len=1)"
   ]
  },
  {
   "cell_type": "markdown",
   "metadata": {},
   "source": [
    "#### some constants that are used in the next few sections"
   ]
  },
  {
   "cell_type": "code",
   "execution_count": null,
   "metadata": {
    "collapsed": true
   },
   "outputs": [],
   "source": [
    "dim = 2; stepsX = 3; stepsY = 4; stepsZ = 1"
   ]
  },
  {
   "cell_type": "code",
   "execution_count": null,
   "metadata": {
    "collapsed": false
   },
   "outputs": [],
   "source": [
    "[(x, y) for x in range(stepsX) for y in range(stepsY)]"
   ]
  },
  {
   "cell_type": "markdown",
   "metadata": {},
   "source": [
    "#### For creating 2d numpy arrays of uniform lattices over the unit N-cube for N = {2, 3}"
   ]
  },
  {
   "cell_type": "code",
   "execution_count": null,
   "metadata": {
    "collapsed": false
   },
   "outputs": [],
   "source": [
    "lat.MakeD2UnitLattice(span_x=stepsX, span_y=stepsY)"
   ]
  },
  {
   "cell_type": "code",
   "execution_count": null,
   "metadata": {
    "collapsed": false
   },
   "outputs": [],
   "source": [
    "lat.MakeD3UnitLattice(span_x=stepsX, span_y=stepsY, span_z=stepsZ)"
   ]
  },
  {
   "cell_type": "markdown",
   "metadata": {},
   "source": [
    "#### Color mapping"
   ]
  },
  {
   "cell_type": "code",
   "execution_count": null,
   "metadata": {
    "collapsed": false
   },
   "outputs": [],
   "source": [
    "cr = lp.MakeRedBlueGridColorer(span_x=stepsX, span_y=stepsY)\n",
    "clrs = [cr((x, y)) for x in range(stepsX) for y in range(stepsY)]\n",
    "sns.palplot(clrs)"
   ]
  },
  {
   "cell_type": "markdown",
   "metadata": {},
   "source": [
    "#### Create a 2d lattice of vectors in N dimenstional space, packaged as TaggedNVectors"
   ]
  },
  {
   "cell_type": "code",
   "execution_count": null,
   "metadata": {
    "collapsed": false
   },
   "outputs": [],
   "source": [
    "rasty = lat.MakeD2Lattice(spans=np.identity(dim), steps1=stepsX, steps2=stepsY, center=np.array([1, 10]))\n",
    "r = lp.PlotTaggedNVectorsGrid(rasty, span_x=stepsX, span_y=stepsY, figsize=(6, 4), markersize=10)"
   ]
  },
  {
   "cell_type": "code",
   "execution_count": null,
   "metadata": {
    "collapsed": false
   },
   "outputs": [],
   "source": [
    "q = lat.MakeRndOrthoD2Lattice(dim=dim, steps1=stepsX, steps2=stepsY, seed=1234)\n",
    "outs = lp.PlotTaggedNVectorsGrid(q, span_x=stepsX, span_y=stepsY, figsize=(6, 4), markersize=10)"
   ]
  },
  {
   "cell_type": "code",
   "execution_count": null,
   "metadata": {
    "collapsed": true
   },
   "outputs": [],
   "source": []
  },
  {
   "cell_type": "markdown",
   "metadata": {},
   "source": [
    "#### Create a set of uniform gaussians around each of the provided vectors"
   ]
  },
  {
   "cell_type": "code",
   "execution_count": null,
   "metadata": {
    "collapsed": false
   },
   "outputs": [],
   "source": [
    "def drawAroundVecs(tvs:dt.TaggedNVectors, blobStdev:float=1.0, pointsPerBlob:int=10):\n",
    "    blobVecs = tvs.vectors\n",
    "    blobTags = tvs.tags\n",
    "    dim = len(blobVecs[0])\n",
    "    return dt.TaggedNVectors(\n",
    "        vectors = np.vstack(np.array([np.random.multivariate_normal(\n",
    "                                        blobVecs[i], \n",
    "                                        np.matrix(np.diag([blobStdev] * dim)), \n",
    "                                        pointsPerBlob) \n",
    "                              for i in range(len(blobVecs))])),\n",
    "        tags = [i for i in blobTags for a in range(pointsPerBlob)]\n",
    "    )"
   ]
  },
  {
   "cell_type": "code",
   "execution_count": null,
   "metadata": {
    "collapsed": false
   },
   "outputs": [],
   "source": [
    "testCenters = dt.TaggedNVectors(vectors=np.array([[0,0], [1,1]]), tags=[(0,1), (1,1)])\n",
    "blobs = drawAroundVecs(tvs=testCenters, blobStdev=0.25, pointsPerBlob=50)\n",
    "\n",
    "rr = lp.PlotTaggedNVectors(tvs=blobs, markersize=5)"
   ]
  },
  {
   "cell_type": "markdown",
   "metadata": {},
   "source": [
    "#### Create a 2d lattice of gaussians in the plane specified by the two input vectors."
   ]
  },
  {
   "cell_type": "code",
   "execution_count": null,
   "metadata": {
    "collapsed": true
   },
   "outputs": [],
   "source": [
    "def GetUnitMatrix(dim:int, s:float):\n",
    "    '''returns a diagonal matrix with all s on the diagonal'''\n",
    "    return np.identity(dim) * s"
   ]
  },
  {
   "cell_type": "code",
   "execution_count": null,
   "metadata": {
    "collapsed": false
   },
   "outputs": [],
   "source": [
    "q = GetUnitMatrix(3, 33)\n",
    "q * 3\n"
   ]
  },
  {
   "cell_type": "code",
   "execution_count": null,
   "metadata": {
    "collapsed": false
   },
   "outputs": [],
   "source": [
    "quak = np.matrix([[1,2], [3,4]])\n",
    "expp = np.matrix(np.diag([2,2]))\n",
    "type(quak * expp)"
   ]
  },
  {
   "cell_type": "code",
   "execution_count": null,
   "metadata": {
    "collapsed": false
   },
   "outputs": [],
   "source": [
    "rasty = lat.MakeD2Lattice(spans=np.identity(dim), steps1=stepsX, steps2=stepsY)\n",
    "def d2LatticeOfGaussians(spans:np.matrixlib.defmatrix.matrix=np.identity(2), arrayRadius:float=1, steps1:int=3, steps2:int=4, blobStdev:float=1.0, pointsPerBlob:int=10):\n",
    "    d2Lattice = rasterOverCenteredSquare(v1=v1, v2=v2, radius=arrayRadius, stride=stride)\n",
    "    return drawAroundVecs(tvs=TaggedNVectors(vectors=d2Lattice.vectors, tags=d2Lattice.coords), \n",
    "                          blobStdev=blobStdev, \n",
    "                          pointsPerBlob=pointsPerBlob)"
   ]
  },
  {
   "cell_type": "code",
   "execution_count": null,
   "metadata": {
    "collapsed": false
   },
   "outputs": [],
   "source": [
    "blobStride = 4\n",
    "blobsL = d2LatticeOfGaussians(\n",
    "                          arrayRadius=3, \n",
    "                          steps1=blobStride, \n",
    "                          steps2=blobStride, \n",
    "                          blobStdev=0.01, \n",
    "                          pointsPerBlob=50)\n",
    "r4 = PlotTaggedNVectorsGrid(blobsL, span_x=blobStride, span_y=blobStride, figsize=(6,6), markersize=5)"
   ]
  },
  {
   "cell_type": "markdown",
   "metadata": {},
   "source": [
    "#### Samples from the N dimensional symmetric gaussian."
   ]
  },
  {
   "cell_type": "markdown",
   "metadata": {},
   "source": [
    "#### Nested lattices"
   ]
  },
  {
   "cell_type": "code",
   "execution_count": null,
   "metadata": {
    "collapsed": false
   },
   "outputs": [],
   "source": [
    "dim = 5\n",
    "count = 10\n",
    "mean = [np.random.randn() for i in range(dim)]\n",
    "np.random.multivariate_normal(mean, np.matrix(np.diag([1] * dim)), count)"
   ]
  },
  {
   "cell_type": "code",
   "execution_count": null,
   "metadata": {
    "collapsed": true
   },
   "outputs": [],
   "source": [
    "import sklearn\n",
    "from sklearn.manifold import TSNE"
   ]
  },
  {
   "cell_type": "markdown",
   "metadata": {},
   "source": [
    "### Stride 7, pointsPerBlob=100, dim = 100, arrayRadius=3 - vary seed, stdev"
   ]
  },
  {
   "cell_type": "code",
   "execution_count": null,
   "metadata": {
    "collapsed": false
   },
   "outputs": [],
   "source": [
    "strideA = 7\n",
    "ppb = 100\n",
    "dim = 100\n",
    "arrayRadius=3\n",
    "def varyStdevA(stdev, seed):\n",
    "    orthoPair = randOrthoNormals(dim=dim, count=2)\n",
    "    gridBlobs = d2LatticeOfGaussians(v1=orthoPair[0],\n",
    "                          v2=orthoPair[1],\n",
    "                          arrayRadius=arrayRadius,\n",
    "                          stride=strideA,\n",
    "                          blobStdev=stdev,\n",
    "                          pointsPerBlob=ppb)\n",
    "    grid_proj = TSNE(n_components=2, random_state=seed, init='random').fit_transform(gridBlobs.vectors)\n",
    "        \n",
    "    tsnu = TaggedNVectors(vectors=grid_proj, tags=gridBlobs.tags)\n",
    "    r77 = PlotTaggedNVectorsGrid(tsnu, span_x=strideA, span_y=strideA, figsize=(6,6), markersize=3)"
   ]
  },
  {
   "cell_type": "code",
   "execution_count": null,
   "metadata": {
    "collapsed": false
   },
   "outputs": [],
   "source": [
    "varyStdevA(0.075, 98154190)"
   ]
  },
  {
   "cell_type": "code",
   "execution_count": null,
   "metadata": {
    "collapsed": false
   },
   "outputs": [],
   "source": [
    "varyStdevA(0.1, 98154190)"
   ]
  },
  {
   "cell_type": "code",
   "execution_count": null,
   "metadata": {
    "collapsed": false
   },
   "outputs": [],
   "source": [
    "varyStdevA(0.15, 82154190)"
   ]
  },
  {
   "cell_type": "markdown",
   "metadata": {},
   "source": [
    "### Stride 7, pointsPerBlob=100, dim = 100, arrayRadius=4 - vary stdev, seed"
   ]
  },
  {
   "cell_type": "code",
   "execution_count": null,
   "metadata": {
    "collapsed": false
   },
   "outputs": [],
   "source": [
    "strideA = 7\n",
    "ppb = 100\n",
    "dim = 100\n",
    "arrayRadius=4\n",
    "def varyStdevB(stdev, seed):\n",
    "    orthoPair = randOrthoNormals(dim=dim, count=2)\n",
    "    gridBlobs = d2LatticeOfGaussians(v1=orthoPair[0],\n",
    "                          v2=orthoPair[1],\n",
    "                          arrayRadius=arrayRadius,\n",
    "                          stride=strideA,\n",
    "                          blobStdev=stdev,\n",
    "                          pointsPerBlob=ppb)\n",
    "    grid_proj = TSNE(n_components=2, random_state=seed, init='random').fit_transform(gridBlobs.vectors)\n",
    "        \n",
    "    tsnu = TaggedNVectors(vectors=grid_proj, tags=gridBlobs.tags)\n",
    "    r77 = PlotTaggedNVectorsGrid(tsnu, span_x=strideA, span_y=strideA, figsize=(6,6), markersize=3)"
   ]
  },
  {
   "cell_type": "code",
   "execution_count": null,
   "metadata": {
    "collapsed": false
   },
   "outputs": [],
   "source": [
    "varyStdevB(0.075, 98154190)"
   ]
  },
  {
   "cell_type": "code",
   "execution_count": null,
   "metadata": {
    "collapsed": false
   },
   "outputs": [],
   "source": [
    "varyStdevB(0.1, 98154190)"
   ]
  },
  {
   "cell_type": "code",
   "execution_count": null,
   "metadata": {
    "collapsed": false
   },
   "outputs": [],
   "source": [
    "varyStdevB(0.15, 98154190)"
   ]
  },
  {
   "cell_type": "markdown",
   "metadata": {},
   "source": [
    "### Stride=7, pointsPerBlob=200, dim=100, arrayRadius=4 - vary stdev, seed"
   ]
  },
  {
   "cell_type": "code",
   "execution_count": null,
   "metadata": {
    "collapsed": false
   },
   "outputs": [],
   "source": [
    "strideA = 7\n",
    "ppb = 200\n",
    "dim = 100\n",
    "arrayRadius=4\n",
    "def varyStdevC(stdev, seed):\n",
    "    orthoPair = randOrthoNormals(dim=dim, count=2)\n",
    "    gridBlobs = d2LatticeOfGaussians(v1=orthoPair[0], \n",
    "                          v2=orthoPair[1], \n",
    "                          arrayRadius=arrayRadius, \n",
    "                          stride=strideA, \n",
    "                          blobStdev=stdev, \n",
    "                          pointsPerBlob=ppb)\n",
    "    grid_proj = TSNE(n_components=2, random_state=seed, init='random').fit_transform(gridBlobs.vectors)\n",
    "        \n",
    "    tsnu = TaggedNVectors(vectors=grid_proj, tags=gridBlobs.tags)\n",
    "    r77 = PlotTaggedNVectorsGrid(tsnu, span_x=strideA, span_y=strideA, figsize=(6,6), markersize=3)"
   ]
  },
  {
   "cell_type": "code",
   "execution_count": null,
   "metadata": {
    "collapsed": false
   },
   "outputs": [],
   "source": [
    "varyStdevC(0.075, 98154190)"
   ]
  },
  {
   "cell_type": "code",
   "execution_count": null,
   "metadata": {
    "collapsed": false
   },
   "outputs": [],
   "source": [
    "varyStdevC(0.1, 98154190)"
   ]
  },
  {
   "cell_type": "code",
   "execution_count": null,
   "metadata": {
    "collapsed": false
   },
   "outputs": [],
   "source": [
    "varyStdevC(0.15, 98154190)"
   ]
  },
  {
   "cell_type": "markdown",
   "metadata": {
    "collapsed": true
   },
   "source": [
    "### Stride=6, pointsPerBlob=200, dim = 100, arrayRadius=5 - vary stdev, seed"
   ]
  },
  {
   "cell_type": "code",
   "execution_count": null,
   "metadata": {
    "collapsed": false
   },
   "outputs": [],
   "source": [
    "strideA = 6\n",
    "ppb = 200\n",
    "dim = 100\n",
    "arrayRadius=5\n",
    "def varyStdevD(stdev, seed):\n",
    "    orthoPair = randOrthoNormals(dim=dim, count=2)\n",
    "    gridBlobs = d2LatticeOfGaussians(v1=orthoPair[0], \n",
    "                          v2=orthoPair[1], \n",
    "                          arrayRadius=arrayRadius, \n",
    "                          stride=strideA, \n",
    "                          blobStdev=stdev, \n",
    "                          pointsPerBlob=ppb)\n",
    "    grid_proj = TSNE(n_components=2, random_state=seed, init='random').fit_transform(gridBlobs.vectors)\n",
    "        \n",
    "    tsnu = TaggedNVectors(vectors=grid_proj, tags=gridBlobs.tags)\n",
    "    r77 = PlotTaggedNVectorsGrid(tsnu, span_x=strideA, span_y=strideA, figsize=(6,6), markersize=3)"
   ]
  },
  {
   "cell_type": "code",
   "execution_count": null,
   "metadata": {
    "collapsed": false
   },
   "outputs": [],
   "source": [
    "varyStdevD(0.1, 98154190)"
   ]
  },
  {
   "cell_type": "code",
   "execution_count": null,
   "metadata": {
    "collapsed": false
   },
   "outputs": [],
   "source": [
    "varyStdevD(0.15, 98154190)"
   ]
  },
  {
   "cell_type": "code",
   "execution_count": null,
   "metadata": {
    "collapsed": false
   },
   "outputs": [],
   "source": [
    "varyStdevD(0.2, 98154190)"
   ]
  },
  {
   "cell_type": "code",
   "execution_count": null,
   "metadata": {
    "collapsed": true
   },
   "outputs": [],
   "source": []
  },
  {
   "cell_type": "code",
   "execution_count": null,
   "metadata": {
    "collapsed": true
   },
   "outputs": [],
   "source": []
  },
  {
   "cell_type": "code",
   "execution_count": null,
   "metadata": {
    "collapsed": false
   },
   "outputs": [],
   "source": [
    "strideA = 2\n",
    "ppb = 2\n",
    "dim = 3\n",
    "arrayRadius=10\n",
    "orthoPair = randOrthoNormals(dim=dim, count=2)\n",
    "gridBlobs = d2LatticeOfGaussians(v1=orthoPair[0], \n",
    "                      v2=orthoPair[1], \n",
    "                      arrayRadius=arrayRadius, \n",
    "                      stride=strideA, \n",
    "                      blobStdev=0.001, \n",
    "                      pointsPerBlob=ppb)"
   ]
  },
  {
   "cell_type": "code",
   "execution_count": null,
   "metadata": {
    "collapsed": false
   },
   "outputs": [],
   "source": [
    "gridBlobs"
   ]
  },
  {
   "cell_type": "code",
   "execution_count": null,
   "metadata": {
    "collapsed": false
   },
   "outputs": [],
   "source": [
    "tup = (1, 2)\n",
    "(tup, 1, 2)"
   ]
  },
  {
   "cell_type": "code",
   "execution_count": null,
   "metadata": {
    "collapsed": true
   },
   "outputs": [],
   "source": []
  }
 ],
 "metadata": {
  "kernelspec": {
   "display_name": "Python 3",
   "language": "python",
   "name": "python3"
  },
  "language_info": {
   "codemirror_mode": {
    "name": "ipython",
    "version": 3
   },
   "file_extension": ".py",
   "mimetype": "text/x-python",
   "name": "python",
   "nbconvert_exporter": "python",
   "pygments_lexer": "ipython3",
   "version": "3.5.3"
  }
 },
 "nbformat": 4,
 "nbformat_minor": 2
}
