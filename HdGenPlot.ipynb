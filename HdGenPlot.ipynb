{
 "cells": [
  {
   "cell_type": "code",
   "execution_count": 1,
   "metadata": {
    "collapsed": false
   },
   "outputs": [],
   "source": [
    "from collections import namedtuple\n",
    "import pandas as pd\n",
    "import matplotlib\n",
    "import numpy as np\n",
    "import numpy.linalg as LA\n",
    "import matplotlib.cm as cm\n",
    "import matplotlib.mlab as mlab\n",
    "import matplotlib.pyplot as plt\n",
    "import seaborn as sns; sns.set()\n",
    "import Utils.BuildMatrix as bm\n",
    "import Utils.TaggedRowVecs as trv\n",
    "import Utils.TrvPlot as trvPlt\n",
    "np.core.arrayprint._line_width = 160\n",
    "%matplotlib inline"
   ]
  },
  {
   "cell_type": "markdown",
   "metadata": {},
   "source": [
    "#### Constants used in all examples"
   ]
  },
  {
   "cell_type": "code",
   "execution_count": 2,
   "metadata": {
    "collapsed": false
   },
   "outputs": [],
   "source": [
    "x_steps = 3\n",
    "y_steps = 4\n",
    "z_steps = 5\n",
    "dim = 20"
   ]
  },
  {
   "cell_type": "code",
   "execution_count": null,
   "metadata": {
    "collapsed": true
   },
   "outputs": [],
   "source": []
  },
  {
   "cell_type": "code",
   "execution_count": 3,
   "metadata": {
    "collapsed": false
   },
   "outputs": [],
   "source": [
    "def Gaussians2(center:trv.TaggedRowVecs=None, \n",
    "              covMatrix=None,\n",
    "              num_points:int=2,\n",
    "              dim:int=None):\n",
    "    if center is None:\n",
    "        center=TaggedRowVecs=trv.Single(vec=np.array([0.] * dim), tag='.')\n",
    "        covMatrix=np.matrix(np.diag([1.] * dim))                                   \n",
    "    ''' replaces each of the provided vectors with a gaussian cluster of vectors'''\n",
    "    return trv.TaggedRowVecs(row_vecs = np.vstack(np.random.multivariate_normal(\n",
    "                                                                center.row_vecs[i], \n",
    "                                                                covMatrix,\n",
    "                                                                num_points) \n",
    "                                  for i in range(len(center.row_vecs))),\n",
    "                         tags = [i for t in center.tags for i in trv.Indexes(root=t, count=num_points)])"
   ]
  },
  {
   "cell_type": "code",
   "execution_count": 4,
   "metadata": {
    "collapsed": false
   },
   "outputs": [
    {
     "data": {
      "text/plain": [
       "TaggedRowVecs(row_vecs=array([[-0.11549215,  0.34326844, -0.23763535,  0.81503545,  0.37901034],\n",
       "       [ 0.63439454,  1.20392909,  2.6441197 ,  0.1995586 ,  0.77886314]]), tags=[('.', 0), ('.', 1)])"
      ]
     },
     "execution_count": 4,
     "metadata": {},
     "output_type": "execute_result"
    }
   ],
   "source": [
    "trv.Gaussians(dim=5)"
   ]
  },
  {
   "cell_type": "markdown",
   "metadata": {},
   "source": [
    "#### Gaussians"
   ]
  },
  {
   "cell_type": "code",
   "execution_count": 5,
   "metadata": {
    "collapsed": false
   },
   "outputs": [
    {
     "data": {
      "image/png": "[encoded data removed]",
      "text/plain": [
       "<matplotlib.figure.Figure at 0x167afd9b128>"
      ]
     },
     "metadata": {},
     "output_type": "display_data"
    }
   ],
   "source": [
    "q = trv.Gaussians(dim=dim)\n",
    "\n",
    "tcvG = trv.Gaussians(centers=q,\n",
    "                     num_points=50,\n",
    "                     covMatrix=np.matrix(np.diag([.01] * dim)))\n",
    "\n",
    "resG = trvPlt.PlotTrvs(tcvG,\n",
    "                       figsize=(2,2), \n",
    "                       markersize=2, \n",
    "                       tag_extractor=lambda x: x[0])"
   ]
  },
  {
   "cell_type": "markdown",
   "metadata": {},
   "source": [
    "#### 2d Lattice"
   ]
  },
  {
   "cell_type": "code",
   "execution_count": 6,
   "metadata": {
    "collapsed": false
   },
   "outputs": [
    {
     "data": {
      "text/plain": [
       "[1, 0, 0, 0, 0, 0, 0, 0, 0, 0, 0, 0, 0, 0, 0, 0, 0, 0, 0, 0]"
      ]
     },
     "execution_count": 6,
     "metadata": {},
     "output_type": "execute_result"
    }
   ],
   "source": [
    "[1] + [0] *(dim -1)"
   ]
  },
  {
   "cell_type": "code",
   "execution_count": 7,
   "metadata": {
    "collapsed": false
   },
   "outputs": [
    {
     "data": {
      "image/png": "[encoded data removed]",
      "text/plain": [
       "<matplotlib.figure.Figure at 0x167b202b940>"
      ]
     },
     "metadata": {},
     "output_type": "display_data"
    }
   ],
   "source": [
    "l2 = trv.d2Lattice(\n",
    "    centers=trv.Single(vec=np.array([0.] * dim), tag='.'),\n",
    "    span1=np.array([0, 1] + [0] *(dim - 2)),\n",
    "    span2=np.array([1] + [0] *(dim - 1)),\n",
    "    steps1=x_steps, \n",
    "    steps2=y_steps\n",
    ")\n",
    "resl2 = trvPlt.PlotTrvsGrid(l2, figsize=(2,2), \n",
    "                            span_x=x_steps, \n",
    "                            span_y=y_steps,\n",
    "                            proj_matrix=bm.randOrthoNormalMatrix(dim),\n",
    "                            tag_extractor=lambda x: x[1])"
   ]
  },
  {
   "cell_type": "markdown",
   "metadata": {},
   "source": [
    "#### 3d Lattice, with plot projection"
   ]
  },
  {
   "cell_type": "code",
   "execution_count": 8,
   "metadata": {
    "collapsed": false
   },
   "outputs": [
    {
     "data": {
      "image/png": "[encoded data removed]",
      "text/plain": [
       "<matplotlib.figure.Figure at 0x167b272b5c0>"
      ]
     },
     "metadata": {},
     "output_type": "display_data"
    }
   ],
   "source": [
    "l3 = trv.d3Lattice(steps1=x_steps, steps2=y_steps, steps3=z_steps)\n",
    "resl3 = trvPlt.PlotTrvsGrid(l3, \n",
    "                            figsize=(4,4), \n",
    "                            span_x=x_steps, \n",
    "                            span_y=y_steps,\n",
    "                            markersize=5,\n",
    "                            proj_matrix=bm.randOrthoNormalMatrix(3),\n",
    "                            tag_extractor=lambda x: x[1])"
   ]
  },
  {
   "cell_type": "markdown",
   "metadata": {},
   "source": [
    "#### Twin Gaussians: two gaussians with the same center"
   ]
  },
  {
   "cell_type": "code",
   "execution_count": 9,
   "metadata": {
    "collapsed": false
   },
   "outputs": [
    {
     "data": {
      "image/png": "[encoded data removed]",
      "text/plain": [
       "<matplotlib.figure.Figure at 0x167b2930908>"
      ]
     },
     "metadata": {},
     "output_type": "display_data"
    }
   ],
   "source": [
    "q = trv.Gaussians(\n",
    "    centers=trv.Single(vec=np.array([0] * dim), tag='.'),\n",
    "    covMatrix=np.matrix(np.diag([15.] * dim)),\n",
    "    num_points=30)\n",
    "tcvG = trv.GaussianTwins(\n",
    "    centers=q,\n",
    "    covMatrix1=np.matrix(np.diag([.1] * dim)),\n",
    "    covMatrix2=np.matrix(np.diag([0.025] * dim)),\n",
    "    num_points1=60, \n",
    "    num_points2=30)\n",
    "resG = trvPlt.PlotTrvs(\n",
    "                tcvG, \n",
    "                figsize=(5,5), \n",
    "                markersize=2,\n",
    "                proj_matrix=bm.randOrthoNormalMatrix(dim),\n",
    "                tag_extractor=lambda x: x[0],\n",
    "                showLegend=True)"
   ]
  },
  {
   "cell_type": "markdown",
   "metadata": {},
   "source": [
    "#### Nested lattices"
   ]
  },
  {
   "cell_type": "code",
   "execution_count": 10,
   "metadata": {
    "collapsed": false
   },
   "outputs": [
    {
     "data": {
      "image/png": "[encoded data removed]",
      "text/plain": [
       "<matplotlib.figure.Figure at 0x167b2930208>"
      ]
     },
     "metadata": {},
     "output_type": "display_data"
    }
   ],
   "source": [
    "l2 = trv.d2Lattice(\n",
    "    centers=trv.Single(vec=np.array([0.] * dim), tag='.'),\n",
    "    span1=np.array([0, 1] + [0] *(dim - 2)),\n",
    "    span2=np.array([1] + [0] *(dim - 1)),\n",
    "    steps1=x_steps, \n",
    "    steps2=y_steps\n",
    ")\n",
    "\n",
    "l2l2 = trv.d2Lattice(\n",
    "    centers=l2,\n",
    "    span1=np.array([0, 0, 0, .1] + [0] *(dim - 4)),\n",
    "    span2=np.array([0, 0, .05] + [0] *(dim - 3)),\n",
    "    steps1=x_steps, \n",
    "    steps2=y_steps\n",
    ")\n",
    "\n",
    "resl2l2 = trvPlt.PlotTrvsGrid(\n",
    "                    l2l2, \n",
    "                    figsize=(5,5),\n",
    "                    markersize=2,\n",
    "                    span_x=x_steps, \n",
    "                    span_y=y_steps,\n",
    "                    proj_matrix=bm.randOrthoNormalMatrix(dim),\n",
    "                    tag_extractor=lambda x: x[1])"
   ]
  },
  {
   "cell_type": "markdown",
   "metadata": {
    "collapsed": true
   },
   "source": [
    "#### Lattice of Gauss Twins"
   ]
  },
  {
   "cell_type": "code",
   "execution_count": 12,
   "metadata": {
    "collapsed": false
   },
   "outputs": [
    {
     "data": {
      "image/png": "[encoded data removed]",
      "text/plain": [
       "<matplotlib.figure.Figure at 0x167b6ee6b38>"
      ]
     },
     "metadata": {},
     "output_type": "display_data"
    }
   ],
   "source": [
    "l2a = trv.d2Lattice(\n",
    "    centers=trv.Single(vec=np.array([0.] * dim), tag='.'),\n",
    "    span1=np.array([0, 100.] + [0] *(dim - 2)),\n",
    "    span2=np.array([100.] + [0] *(dim - 1)),\n",
    "    steps1=x_steps, \n",
    "    steps2=y_steps\n",
    ")\n",
    "\n",
    "tcvGa = trv.GaussianTwins(\n",
    "    centers=l2a,\n",
    "    covMatrix1=np.matrix(np.diag([.1] * dim)),\n",
    "    covMatrix2=np.matrix(np.diag([0.025] * dim)),\n",
    "    num_points1=60, \n",
    "    num_points2=30)\n",
    "resG = trvPlt.PlotTrvs(\n",
    "                tcvGa, \n",
    "                figsize=(5,5), \n",
    "                markersize=2,\n",
    "                proj_matrix=bm.randOrthoNormalMatrix(dim),\n",
    "                tag_extractor=lambda x: x[0],\n",
    "                showLegend=True)"
   ]
  },
  {
   "cell_type": "code",
   "execution_count": 13,
   "metadata": {
    "collapsed": false
   },
   "outputs": [
    {
     "data": {
      "image/png": "[encoded data removed]",
      "text/plain": [
       "<matplotlib.figure.Figure at 0x167b6ee1a90>"
      ]
     },
     "metadata": {},
     "output_type": "display_data"
    }
   ],
   "source": [
    "sp = 4\n",
    "cr = trvPlt.MakeRedBlueGridColorer(span_x=sp, span_y=sp)\n",
    "clrs = [cr((x, y)) for x in range(sp) for y in range(sp)]\n",
    "sns.palplot(clrs)"
   ]
  },
  {
   "cell_type": "code",
   "execution_count": null,
   "metadata": {
    "collapsed": true
   },
   "outputs": [],
   "source": []
  }
 ],
 "metadata": {
  "kernelspec": {
   "display_name": "Python 3",
   "language": "python",
   "name": "python3"
  },
  "language_info": {
   "codemirror_mode": {
    "name": "ipython",
    "version": 3
   },
   "file_extension": ".py",
   "mimetype": "text/x-python",
   "name": "python",
   "nbconvert_exporter": "python",
   "pygments_lexer": "ipython3",
   "version": "3.5.3"
  }
 },
 "nbformat": 4,
 "nbformat_minor": 2
}
