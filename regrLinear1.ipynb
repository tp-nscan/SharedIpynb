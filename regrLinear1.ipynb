{
 "cells": [
  {
   "cell_type": "code",
   "execution_count": 1,
   "metadata": {
    "collapsed": true
   },
   "outputs": [],
   "source": [
    "from sklearn import linear_model\n",
    "import numpy as np\n",
    "import pandas as pd\n",
    "import random\n",
    "import matplotlib.pyplot as plt\n",
    "from sklearn.linear_model import LinearRegression\n",
    "%matplotlib inline\n",
    "from matplotlib.pylab import rcParams"
   ]
  },
  {
   "cell_type": "code",
   "execution_count": 2,
   "metadata": {
    "collapsed": true
   },
   "outputs": [],
   "source": [
    "from collections import namedtuple\n",
    "# Used with sklearn.linear_model.LinearRegression\n",
    "# A set of K dim N vectors, K points with N features each\n",
    "# data: 2d numpy array with shape (K, N)\n",
    "# targets: numpy array with shape (K), the values to regress on\n",
    "# Use as LinearRegression.fit(train_data, train_targets)\n",
    "regrData = namedtuple('regrData', 'train_data train_targets test_data test_targets')\n",
    "lin_rgr = namedtuple('lin_rgr', 'regrData intercept coeffs train_pred test_pred, train_err, test_err')"
   ]
  },
  {
   "cell_type": "code",
   "execution_count": 3,
   "metadata": {
    "collapsed": true
   },
   "outputs": [],
   "source": [
    "def regrData_Sinus(stDev:float=0.05, offset:float = 1.1, freq:float=10,\n",
    "                  num_train:int=100, seed_train:int=1234,\n",
    "                  num_test:int=None, seed_test:int=None,\n",
    "                  max_power:int=15):\n",
    "    '''fuzzy sin data and poly kernel'''\n",
    "    np.random.seed(seed_train)\n",
    "    xR = np.array([offset + i * freq/num_train for i in range(0, num_train)])\n",
    "    yR = np.random.normal(0, stDev, num_train) + np.sin(xR)\n",
    "    # xR is XR[:, 0]\n",
    "    XR = np.array( [xR ** i for i in range(1, max_power)]).T\n",
    "    \n",
    "    if num_test is None:\n",
    "        num_test = num_train\n",
    "    if seed_test is None:\n",
    "        seed_test = seed_train + 77\n",
    "        \n",
    "    xT = np.array([offset + i * freq/num_test for i in range(0, num_test)])\n",
    "    XT = np.array( [xT ** i for i in range(1, max_power)]).T\n",
    "    yT = np.random.normal(0, stDev, num_test) + np.sin(xT)  \n",
    "        \n",
    "    return regrData(train_data=XR, train_targets=yR, test_data=XT, test_targets=yT)"
   ]
  },
  {
   "cell_type": "code",
   "execution_count": 4,
   "metadata": {
    "collapsed": true
   },
   "outputs": [],
   "source": [
    "def LinRegRun(rd:regrData):\n",
    "    Xr = sinusData.train_data\n",
    "    yr = sinusData.train_targets\n",
    "    xr = Xr[:, 0]\n",
    "    Xs = sinusData.test_data\n",
    "    xs = Xs[:, 0]\n",
    "    ys = sinusData.test_targets\n",
    "\n",
    "    linreg = LinearRegression(normalize=True)\n",
    "    linreg.fit(Xr, yr)\n",
    "\n",
    "    yr_pred = linreg.predict(Xr)\n",
    "    ys_pred = linreg.predict(Xs)\n",
    "    \n",
    "    return lin_rgr(regrData = sinusData,\n",
    "                 intercept = linreg.intercept_,\n",
    "                 coeffs = linreg.coef_,\n",
    "                 train_pred = yr_pred,\n",
    "                 test_pred = ys_pred,\n",
    "                 train_err = sum((yr_pred-yr)**2),\n",
    "                 test_err = sum((ys_pred-ys)**2))"
   ]
  },
  {
   "cell_type": "code",
   "execution_count": 13,
   "metadata": {},
   "outputs": [
    {
     "data": {
      "image/png": "[encoded data removed]",
      "text/plain": [
       "<matplotlib.figure.Figure at 0x1abeebd38d0>"
      ]
     },
     "metadata": {},
     "output_type": "display_data"
    }
   ],
   "source": [
    "sinusData = regrData_Sinus(num_train=200, num_test=200, stDev=0.25, freq=20, max_power=12)\n",
    "lrResults = LinRegRun(rd=sinusData)\n",
    "\n",
    "rcParams['figure.figsize'] = 4, 3\n",
    "plt.plot(lrResults.regrData.test_data[:,0], lrResults.test_pred)\n",
    "plt.plot(lrResults.regrData.train_data[:,0], lrResults.regrData.train_targets,'.', markersize=2)\n",
    "plt.show()"
   ]
  },
  {
   "cell_type": "code",
   "execution_count": 14,
   "metadata": {},
   "outputs": [
    {
     "data": {
      "text/plain": [
       "(200, 11)"
      ]
     },
     "execution_count": 14,
     "metadata": {},
     "output_type": "execute_result"
    }
   ],
   "source": [
    "sinusData.train_data.shape"
   ]
  },
  {
   "cell_type": "code",
   "execution_count": null,
   "metadata": {
    "collapsed": true
   },
   "outputs": [],
   "source": []
  },
  {
   "cell_type": "code",
   "execution_count": null,
   "metadata": {
    "collapsed": true
   },
   "outputs": [],
   "source": []
  },
  {
   "cell_type": "code",
   "execution_count": null,
   "metadata": {
    "collapsed": true
   },
   "outputs": [],
   "source": []
  }
 ],
 "metadata": {
  "kernelspec": {
   "display_name": "Python 3",
   "language": "python",
   "name": "python3"
  },
  "language_info": {
   "codemirror_mode": {
    "name": "ipython",
    "version": 3
   },
   "file_extension": ".py",
   "mimetype": "text/x-python",
   "name": "python",
   "nbconvert_exporter": "python",
   "pygments_lexer": "ipython3",
   "version": "3.5.4"
  }
 },
 "nbformat": 4,
 "nbformat_minor": 2
}
