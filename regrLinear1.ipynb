{
 "cells": [
  {
   "cell_type": "code",
   "execution_count": 1,
   "metadata": {
    "collapsed": true
   },
   "outputs": [],
   "source": [
    "from sklearn import linear_model\n",
    "import numpy as np\n",
    "import pandas as pd\n",
    "import random\n",
    "import matplotlib.pyplot as plt\n",
    "from sklearn.linear_model import LinearRegression\n",
    "%matplotlib inline\n",
    "from matplotlib.pylab import rcParams"
   ]
  },
  {
   "cell_type": "code",
   "execution_count": 2,
   "metadata": {
    "collapsed": true
   },
   "outputs": [],
   "source": [
    "from collections import namedtuple\n",
    "# Used with sklearn.linear_model.LinearRegression\n",
    "# A set of K dim N vectors, K points with N features each\n",
    "# data: 2d numpy array with shape (K, N)\n",
    "# targets: numpy array with shape (K), the values to regress on\n",
    "# Use as LinearRegression.fit(train_data, train_targets)\n",
    "regrData = namedtuple('regrData', 'train_data train_targets test_data test_targets')\n",
    "lin_rgr = namedtuple('lin_rgr', 'regrData intercept coeffs train_pred test_pred, train_err, test_err')"
   ]
  },
  {
   "cell_type": "code",
   "execution_count": 3,
   "metadata": {
    "collapsed": true
   },
   "outputs": [],
   "source": [
    "def regrData_Sinus(stDev:float=0.05, offset:float = 1.1, freq:float=10,\n",
    "          num_train:int=100, seed_train:int=1234,\n",
    "          num_test:int=None, seed_test:int=None,\n",
    "          max_power:int=15):\n",
    "    '''fuzzy sin data and poly kernel'''\n",
    "    np.random.seed(seed_train)\n",
    "    xR = np.array([offset + i * freq/num_train for i in range(0, num_train)])\n",
    "    yR = np.random.normal(0, stDev, num_train) + np.sin(xR)\n",
    "    # xR is XR[:, 0]\n",
    "    XR = np.array( [xR ** i for i in range(1, max_power)]).T\n",
    "    \n",
    "    if num_test is None:\n",
    "        num_test = num_train\n",
    "    if seed_test is None:\n",
    "        seed_test = seed_train + 77\n",
    "        \n",
    "    xT = np.array([offset + i * freq/num_test for i in range(0, num_test)])\n",
    "    XT = np.array( [xT ** i for i in range(1, max_power)]).T\n",
    "    yT = np.random.normal(0, stDev, num_test) + np.sin(xT)  \n",
    "        \n",
    "    return regrData(train_data=XR, train_targets=yR, test_data=XT, test_targets=yT)"
   ]
  },
  {
   "cell_type": "code",
   "execution_count": 10,
   "metadata": {},
   "outputs": [],
   "source": [
    "sinusData = regrData_Sinus(num_train=200, num_test=30, stDev=0.25, freq=20)\n",
    "Xr = sinusData.train_data\n",
    "yr = sinusData.train_targets\n",
    "xr = Xr[:, 0]\n",
    "Xs = sinusData.test_data\n",
    "xs = Xs[:, 0]\n",
    "ys = sinusData.test_targets\n",
    "\n",
    "linreg = LinearRegression(normalize=True)\n",
    "linreg.fit(Xr, yr)\n",
    "\n",
    "yr_pred = linreg.predict(Xr)\n",
    "ys_pred = linreg.predict(Xs)"
   ]
  },
  {
   "cell_type": "code",
   "execution_count": 11,
   "metadata": {},
   "outputs": [
    {
     "data": {
      "image/png": "[encoded data removed]",
      "text/plain": [
       "<matplotlib.figure.Figure at 0x25824b2db38>"
      ]
     },
     "metadata": {},
     "output_type": "display_data"
    }
   ],
   "source": [
    "lrResults = lin_rgr(regrData = sinusData,\n",
    "                 intercept = linreg.intercept_,\n",
    "                 coeffs = linreg.coef_,\n",
    "                 train_pred = yr_pred,\n",
    "                 test_pred = ys_pred,\n",
    "                 train_err = sum((yr_pred-yr)**2),\n",
    "                 test_err = sum((ys_pred-ys)**2))\n",
    "\n",
    "rcParams['figure.figsize'] = 4, 3\n",
    "plt.plot(lrResults.regrData.test_data[:,0], lrResults.test_pred)\n",
    "plt.plot(xr, yr,'.', markersize=2)\n",
    "plt.show()"
   ]
  },
  {
   "cell_type": "code",
   "execution_count": null,
   "metadata": {
    "collapsed": true
   },
   "outputs": [],
   "source": []
  },
  {
   "cell_type": "code",
   "execution_count": null,
   "metadata": {},
   "outputs": [],
   "source": [
    "rcParams['figure.figsize'] = 6, 5\n",
    "numPoints = 800\n",
    "stdev = 0.5\n",
    "#Define input array with angles from 60deg to 300deg converted to radians\n",
    "x = np.array([1. + i * 48./numPoints for i in range(0, numPoints)])\n",
    "np.random.seed(190)  #Setting seed for reproducability\n",
    "y = np.random.normal(0, stdev, len(x)) + np.sin(x)\n",
    "data = pd.DataFrame(np.column_stack([x,y]),columns=['x_1','y'])\n",
    "plt.plot(data['x_1'], data['y'],'.', markersize=500/numPoints)\n",
    "plt.show()"
   ]
  },
  {
   "cell_type": "code",
   "execution_count": null,
   "metadata": {
    "collapsed": true
   },
   "outputs": [],
   "source": [
    "maxpower = 44\n",
    "powerRange = range(1, maxpower)\n",
    "for i in powerRange:  #power of 1 is already there\n",
    "    colname = 'x_%d'%i      #new var will be x_power\n",
    "    data[colname] = data['x_1']**i\n",
    "    \n",
    "#print(data.head())"
   ]
  },
  {
   "cell_type": "code",
   "execution_count": null,
   "metadata": {
    "collapsed": true
   },
   "outputs": [],
   "source": []
  },
  {
   "cell_type": "code",
   "execution_count": null,
   "metadata": {
    "collapsed": true
   },
   "outputs": [],
   "source": []
  },
  {
   "cell_type": "code",
   "execution_count": null,
   "metadata": {
    "collapsed": true
   },
   "outputs": [],
   "source": [
    "#Import Linear Regression model from scikit-learn.\n",
    "from sklearn.linear_model import LinearRegression\n",
    "def linear_regression(data, power, models_to_plot):\n",
    "    predictors = ['x_%d'%i for i in range(1, power+1)]\n",
    "    #Fit the model\n",
    "    linreg = LinearRegression(normalize=True)\n",
    "    linreg.fit(data[predictors], data['y'])\n",
    "    y_pred = linreg.predict(data[predictors])\n",
    "    \n",
    "    #Check if a plot is to be made for the entered power\n",
    "    if power in models_to_plot:\n",
    "        plt.subplot(models_to_plot[power])\n",
    "        plt.tight_layout()\n",
    "        plt.plot(data['x_1'], y_pred)\n",
    "        plt.plot(data['x_1'], data['y'],'.', markersize=1000/numPoints)\n",
    "        plt.title('Plot for power: %d'%power)\n",
    "    \n",
    "    #Return the result in pre-defined format\n",
    "    return [sum((y_pred-data['y'])**2)] + [linreg.intercept_] + list(linreg.coef_)"
   ]
  },
  {
   "cell_type": "code",
   "execution_count": null,
   "metadata": {},
   "outputs": [],
   "source": [
    "#Initialize a dataframe to store the results:\n",
    "col = ['rss','intercept'] + ['coef_x_%d'%i for i in powerRange]\n",
    "ind = ['model_pow_%d'%i for i in powerRange]\n",
    "coef_matrix_simple = pd.DataFrame(index=ind, columns=col)\n",
    "\n",
    "#Define the powers for which a plot is required:\n",
    "models_to_plot = {8:231,12:232,20:233,28:234,36:235,42:236}\n",
    "\n",
    "#Iterate through all powers and assimilate results\n",
    "rcParams['figure.figsize'] = 12, 10\n",
    "for i in powerRange:\n",
    "    coef_matrix_simple.iloc[i-1,0:i+2] = linear_regression(data, power=i, models_to_plot=models_to_plot)"
   ]
  },
  {
   "cell_type": "code",
   "execution_count": null,
   "metadata": {},
   "outputs": [],
   "source": [
    "coef_matrix_simple"
   ]
  },
  {
   "cell_type": "code",
   "execution_count": null,
   "metadata": {
    "collapsed": true
   },
   "outputs": [],
   "source": []
  },
  {
   "cell_type": "code",
   "execution_count": null,
   "metadata": {
    "collapsed": true
   },
   "outputs": [],
   "source": []
  },
  {
   "cell_type": "code",
   "execution_count": null,
   "metadata": {
    "collapsed": true
   },
   "outputs": [],
   "source": []
  }
 ],
 "metadata": {
  "kernelspec": {
   "display_name": "Python 3",
   "language": "python",
   "name": "python3"
  },
  "language_info": {
   "codemirror_mode": {
    "name": "ipython",
    "version": 3
   },
   "file_extension": ".py",
   "mimetype": "text/x-python",
   "name": "python",
   "nbconvert_exporter": "python",
   "pygments_lexer": "ipython3",
   "version": "3.5.4"
  }
 },
 "nbformat": 4,
 "nbformat_minor": 2
}
